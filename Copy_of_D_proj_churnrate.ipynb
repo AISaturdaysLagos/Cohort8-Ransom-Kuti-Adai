{
  "cells": [
    {
      "cell_type": "markdown",
      "metadata": {
        "id": "view-in-github",
        "colab_type": "text"
      },
      "source": [
        "<a href=\"https://colab.research.google.com/github/AISaturdaysLagos/Cohort8-Ransome-Kuti-Adai/blob/main/Copy_of_D_proj_churnrate.ipynb\" target=\"_parent\"><img src=\"https://colab.research.google.com/assets/colab-badge.svg\" alt=\"Open In Colab\"/></a>"
      ]
    },
    {
      "metadata": {
        "dc": {
          "key": "3"
        },
        "deletable": false,
        "editable": false,
        "run_control": {
          "frozen": true
        },
        "tags": [
          "context"
        ],
        "id": "QEx1aJEUQuw8"
      },
      "cell_type": "markdown",
      "source": [
        "## 1. Credit card applications\n",
        "<p>Commercial banks receive <em>a lot</em> of applications for credit cards. Many of them get rejected for many reasons, like high loan balances, low income levels, or too many inquiries on an individual's credit report, for example. Manually analyzing these applications is mundane, error-prone, and time-consuming (and time is money!). Luckily, this task can be automated with the power of machine learning and pretty much every commercial bank does so nowadays. In this notebook, we will build an automatic credit card approval predictor using machine learning techniques, just like the real banks do.</p>\n",
        "<p><img src=\"https://assets.datacamp.com/production/project_558/img/credit_card.jpg\" alt=\"Credit card being held in hand\"></p>\n",
        "<p>I'll use the <a href=\"http://archive.ics.uci.edu/ml/datasets/credit+approval\">Credit Card Approval dataset</a> from the UCI Machine Learning Repository. The structure of this notebook is as follows:</p>\n",
        "<ul>\n",
        "<li>First, I will start off by loading and viewing the dataset.</li>\n",
        "<li>I will see that the dataset has a mixture of both numerical and non-numerical features, that it contains values from different ranges, plus that it contains a number of missing entries.</li>\n",
        "<li>I will have to preprocess the dataset to ensure the machine learning model we choose can make good predictions.</li>\n",
        "<li>After the data is in good shape, I will do some exploratory data analysis to build our intuitions.</li>\n",
        "<li>Finally, I will build a machine learning model that can predict if an individual's application for a credit card will be accepted.</li>\n",
        "</ul>\n",
        "<p>First, loading and viewing the dataset. I find that since this data is confidential, the contributor of the dataset has anonymized the feature names.</p>"
      ]
    },
    {
      "metadata": {
        "dc": {
          "key": "3"
        },
        "tags": [
          "sample_code"
        ],
        "trusted": true,
        "colab": {
          "base_uri": "https://localhost:8080/",
          "height": 206
        },
        "id": "wXvrXkuFQuxC",
        "outputId": "97433d1f-75d9-4a88-bc70-5c091959a5bf"
      },
      "cell_type": "code",
      "source": [
        "# Import pandas\n",
        "import pandas as pd, numpy as np\n",
        "\n",
        "# Load dataset\n",
        "cc_apps = pd.read_csv( '/content/cc_approvals - Copy (2).data', header=None)\n",
        "\n",
        "# Inspect data\n",
        "cc_apps.head()"
      ],
      "execution_count": null,
      "outputs": [
        {
          "output_type": "execute_result",
          "data": {
            "text/plain": [
              "  0      1      2  3  4  5  6     7  8  9   10 11 12     13   14 15\n",
              "0  b  30.83  0.000  u  g  w  v  1.25  t  t   1  f  g  00202    0  +\n",
              "1  a  58.67  4.460  u  g  q  h  3.04  t  t   6  f  g  00043  560  +\n",
              "2  a  24.50  0.500  u  g  q  h  1.50  t  f   0  f  g  00280  824  +\n",
              "3  b  27.83  1.540  u  g  w  v  3.75  t  t   5  t  g  00100    3  +\n",
              "4  b  20.17  5.625  u  g  w  v  1.71  t  f   0  f  s  00120    0  +"
            ],
            "text/html": [
              "\n",
              "  <div id=\"df-56128a92-56c8-4b06-9480-311ca8acc089\" class=\"colab-df-container\">\n",
              "    <div>\n",
              "<style scoped>\n",
              "    .dataframe tbody tr th:only-of-type {\n",
              "        vertical-align: middle;\n",
              "    }\n",
              "\n",
              "    .dataframe tbody tr th {\n",
              "        vertical-align: top;\n",
              "    }\n",
              "\n",
              "    .dataframe thead th {\n",
              "        text-align: right;\n",
              "    }\n",
              "</style>\n",
              "<table border=\"1\" class=\"dataframe\">\n",
              "  <thead>\n",
              "    <tr style=\"text-align: right;\">\n",
              "      <th></th>\n",
              "      <th>0</th>\n",
              "      <th>1</th>\n",
              "      <th>2</th>\n",
              "      <th>3</th>\n",
              "      <th>4</th>\n",
              "      <th>5</th>\n",
              "      <th>6</th>\n",
              "      <th>7</th>\n",
              "      <th>8</th>\n",
              "      <th>9</th>\n",
              "      <th>10</th>\n",
              "      <th>11</th>\n",
              "      <th>12</th>\n",
              "      <th>13</th>\n",
              "      <th>14</th>\n",
              "      <th>15</th>\n",
              "    </tr>\n",
              "  </thead>\n",
              "  <tbody>\n",
              "    <tr>\n",
              "      <th>0</th>\n",
              "      <td>b</td>\n",
              "      <td>30.83</td>\n",
              "      <td>0.000</td>\n",
              "      <td>u</td>\n",
              "      <td>g</td>\n",
              "      <td>w</td>\n",
              "      <td>v</td>\n",
              "      <td>1.25</td>\n",
              "      <td>t</td>\n",
              "      <td>t</td>\n",
              "      <td>1</td>\n",
              "      <td>f</td>\n",
              "      <td>g</td>\n",
              "      <td>00202</td>\n",
              "      <td>0</td>\n",
              "      <td>+</td>\n",
              "    </tr>\n",
              "    <tr>\n",
              "      <th>1</th>\n",
              "      <td>a</td>\n",
              "      <td>58.67</td>\n",
              "      <td>4.460</td>\n",
              "      <td>u</td>\n",
              "      <td>g</td>\n",
              "      <td>q</td>\n",
              "      <td>h</td>\n",
              "      <td>3.04</td>\n",
              "      <td>t</td>\n",
              "      <td>t</td>\n",
              "      <td>6</td>\n",
              "      <td>f</td>\n",
              "      <td>g</td>\n",
              "      <td>00043</td>\n",
              "      <td>560</td>\n",
              "      <td>+</td>\n",
              "    </tr>\n",
              "    <tr>\n",
              "      <th>2</th>\n",
              "      <td>a</td>\n",
              "      <td>24.50</td>\n",
              "      <td>0.500</td>\n",
              "      <td>u</td>\n",
              "      <td>g</td>\n",
              "      <td>q</td>\n",
              "      <td>h</td>\n",
              "      <td>1.50</td>\n",
              "      <td>t</td>\n",
              "      <td>f</td>\n",
              "      <td>0</td>\n",
              "      <td>f</td>\n",
              "      <td>g</td>\n",
              "      <td>00280</td>\n",
              "      <td>824</td>\n",
              "      <td>+</td>\n",
              "    </tr>\n",
              "    <tr>\n",
              "      <th>3</th>\n",
              "      <td>b</td>\n",
              "      <td>27.83</td>\n",
              "      <td>1.540</td>\n",
              "      <td>u</td>\n",
              "      <td>g</td>\n",
              "      <td>w</td>\n",
              "      <td>v</td>\n",
              "      <td>3.75</td>\n",
              "      <td>t</td>\n",
              "      <td>t</td>\n",
              "      <td>5</td>\n",
              "      <td>t</td>\n",
              "      <td>g</td>\n",
              "      <td>00100</td>\n",
              "      <td>3</td>\n",
              "      <td>+</td>\n",
              "    </tr>\n",
              "    <tr>\n",
              "      <th>4</th>\n",
              "      <td>b</td>\n",
              "      <td>20.17</td>\n",
              "      <td>5.625</td>\n",
              "      <td>u</td>\n",
              "      <td>g</td>\n",
              "      <td>w</td>\n",
              "      <td>v</td>\n",
              "      <td>1.71</td>\n",
              "      <td>t</td>\n",
              "      <td>f</td>\n",
              "      <td>0</td>\n",
              "      <td>f</td>\n",
              "      <td>s</td>\n",
              "      <td>00120</td>\n",
              "      <td>0</td>\n",
              "      <td>+</td>\n",
              "    </tr>\n",
              "  </tbody>\n",
              "</table>\n",
              "</div>\n",
              "    <div class=\"colab-df-buttons\">\n",
              "\n",
              "  <div class=\"colab-df-container\">\n",
              "    <button class=\"colab-df-convert\" onclick=\"convertToInteractive('df-56128a92-56c8-4b06-9480-311ca8acc089')\"\n",
              "            title=\"Convert this dataframe to an interactive table.\"\n",
              "            style=\"display:none;\">\n",
              "\n",
              "  <svg xmlns=\"http://www.w3.org/2000/svg\" height=\"24px\" viewBox=\"0 -960 960 960\">\n",
              "    <path d=\"M120-120v-720h720v720H120Zm60-500h600v-160H180v160Zm220 220h160v-160H400v160Zm0 220h160v-160H400v160ZM180-400h160v-160H180v160Zm440 0h160v-160H620v160ZM180-180h160v-160H180v160Zm440 0h160v-160H620v160Z\"/>\n",
              "  </svg>\n",
              "    </button>\n",
              "\n",
              "  <style>\n",
              "    .colab-df-container {\n",
              "      display:flex;\n",
              "      gap: 12px;\n",
              "    }\n",
              "\n",
              "    .colab-df-convert {\n",
              "      background-color: #E8F0FE;\n",
              "      border: none;\n",
              "      border-radius: 50%;\n",
              "      cursor: pointer;\n",
              "      display: none;\n",
              "      fill: #1967D2;\n",
              "      height: 32px;\n",
              "      padding: 0 0 0 0;\n",
              "      width: 32px;\n",
              "    }\n",
              "\n",
              "    .colab-df-convert:hover {\n",
              "      background-color: #E2EBFA;\n",
              "      box-shadow: 0px 1px 2px rgba(60, 64, 67, 0.3), 0px 1px 3px 1px rgba(60, 64, 67, 0.15);\n",
              "      fill: #174EA6;\n",
              "    }\n",
              "\n",
              "    .colab-df-buttons div {\n",
              "      margin-bottom: 4px;\n",
              "    }\n",
              "\n",
              "    [theme=dark] .colab-df-convert {\n",
              "      background-color: #3B4455;\n",
              "      fill: #D2E3FC;\n",
              "    }\n",
              "\n",
              "    [theme=dark] .colab-df-convert:hover {\n",
              "      background-color: #434B5C;\n",
              "      box-shadow: 0px 1px 3px 1px rgba(0, 0, 0, 0.15);\n",
              "      filter: drop-shadow(0px 1px 2px rgba(0, 0, 0, 0.3));\n",
              "      fill: #FFFFFF;\n",
              "    }\n",
              "  </style>\n",
              "\n",
              "    <script>\n",
              "      const buttonEl =\n",
              "        document.querySelector('#df-56128a92-56c8-4b06-9480-311ca8acc089 button.colab-df-convert');\n",
              "      buttonEl.style.display =\n",
              "        google.colab.kernel.accessAllowed ? 'block' : 'none';\n",
              "\n",
              "      async function convertToInteractive(key) {\n",
              "        const element = document.querySelector('#df-56128a92-56c8-4b06-9480-311ca8acc089');\n",
              "        const dataTable =\n",
              "          await google.colab.kernel.invokeFunction('convertToInteractive',\n",
              "                                                    [key], {});\n",
              "        if (!dataTable) return;\n",
              "\n",
              "        const docLinkHtml = 'Like what you see? Visit the ' +\n",
              "          '<a target=\"_blank\" href=https://colab.research.google.com/notebooks/data_table.ipynb>data table notebook</a>'\n",
              "          + ' to learn more about interactive tables.';\n",
              "        element.innerHTML = '';\n",
              "        dataTable['output_type'] = 'display_data';\n",
              "        await google.colab.output.renderOutput(dataTable, element);\n",
              "        const docLink = document.createElement('div');\n",
              "        docLink.innerHTML = docLinkHtml;\n",
              "        element.appendChild(docLink);\n",
              "      }\n",
              "    </script>\n",
              "  </div>\n",
              "\n",
              "\n",
              "<div id=\"df-f803b477-7e14-4fed-9487-ebb9a8b7c363\">\n",
              "  <button class=\"colab-df-quickchart\" onclick=\"quickchart('df-f803b477-7e14-4fed-9487-ebb9a8b7c363')\"\n",
              "            title=\"Suggest charts\"\n",
              "            style=\"display:none;\">\n",
              "\n",
              "<svg xmlns=\"http://www.w3.org/2000/svg\" height=\"24px\"viewBox=\"0 0 24 24\"\n",
              "     width=\"24px\">\n",
              "    <g>\n",
              "        <path d=\"M19 3H5c-1.1 0-2 .9-2 2v14c0 1.1.9 2 2 2h14c1.1 0 2-.9 2-2V5c0-1.1-.9-2-2-2zM9 17H7v-7h2v7zm4 0h-2V7h2v10zm4 0h-2v-4h2v4z\"/>\n",
              "    </g>\n",
              "</svg>\n",
              "  </button>\n",
              "\n",
              "<style>\n",
              "  .colab-df-quickchart {\n",
              "      --bg-color: #E8F0FE;\n",
              "      --fill-color: #1967D2;\n",
              "      --hover-bg-color: #E2EBFA;\n",
              "      --hover-fill-color: #174EA6;\n",
              "      --disabled-fill-color: #AAA;\n",
              "      --disabled-bg-color: #DDD;\n",
              "  }\n",
              "\n",
              "  [theme=dark] .colab-df-quickchart {\n",
              "      --bg-color: #3B4455;\n",
              "      --fill-color: #D2E3FC;\n",
              "      --hover-bg-color: #434B5C;\n",
              "      --hover-fill-color: #FFFFFF;\n",
              "      --disabled-bg-color: #3B4455;\n",
              "      --disabled-fill-color: #666;\n",
              "  }\n",
              "\n",
              "  .colab-df-quickchart {\n",
              "    background-color: var(--bg-color);\n",
              "    border: none;\n",
              "    border-radius: 50%;\n",
              "    cursor: pointer;\n",
              "    display: none;\n",
              "    fill: var(--fill-color);\n",
              "    height: 32px;\n",
              "    padding: 0;\n",
              "    width: 32px;\n",
              "  }\n",
              "\n",
              "  .colab-df-quickchart:hover {\n",
              "    background-color: var(--hover-bg-color);\n",
              "    box-shadow: 0 1px 2px rgba(60, 64, 67, 0.3), 0 1px 3px 1px rgba(60, 64, 67, 0.15);\n",
              "    fill: var(--button-hover-fill-color);\n",
              "  }\n",
              "\n",
              "  .colab-df-quickchart-complete:disabled,\n",
              "  .colab-df-quickchart-complete:disabled:hover {\n",
              "    background-color: var(--disabled-bg-color);\n",
              "    fill: var(--disabled-fill-color);\n",
              "    box-shadow: none;\n",
              "  }\n",
              "\n",
              "  .colab-df-spinner {\n",
              "    border: 2px solid var(--fill-color);\n",
              "    border-color: transparent;\n",
              "    border-bottom-color: var(--fill-color);\n",
              "    animation:\n",
              "      spin 1s steps(1) infinite;\n",
              "  }\n",
              "\n",
              "  @keyframes spin {\n",
              "    0% {\n",
              "      border-color: transparent;\n",
              "      border-bottom-color: var(--fill-color);\n",
              "      border-left-color: var(--fill-color);\n",
              "    }\n",
              "    20% {\n",
              "      border-color: transparent;\n",
              "      border-left-color: var(--fill-color);\n",
              "      border-top-color: var(--fill-color);\n",
              "    }\n",
              "    30% {\n",
              "      border-color: transparent;\n",
              "      border-left-color: var(--fill-color);\n",
              "      border-top-color: var(--fill-color);\n",
              "      border-right-color: var(--fill-color);\n",
              "    }\n",
              "    40% {\n",
              "      border-color: transparent;\n",
              "      border-right-color: var(--fill-color);\n",
              "      border-top-color: var(--fill-color);\n",
              "    }\n",
              "    60% {\n",
              "      border-color: transparent;\n",
              "      border-right-color: var(--fill-color);\n",
              "    }\n",
              "    80% {\n",
              "      border-color: transparent;\n",
              "      border-right-color: var(--fill-color);\n",
              "      border-bottom-color: var(--fill-color);\n",
              "    }\n",
              "    90% {\n",
              "      border-color: transparent;\n",
              "      border-bottom-color: var(--fill-color);\n",
              "    }\n",
              "  }\n",
              "</style>\n",
              "\n",
              "  <script>\n",
              "    async function quickchart(key) {\n",
              "      const quickchartButtonEl =\n",
              "        document.querySelector('#' + key + ' button');\n",
              "      quickchartButtonEl.disabled = true;  // To prevent multiple clicks.\n",
              "      quickchartButtonEl.classList.add('colab-df-spinner');\n",
              "      try {\n",
              "        const charts = await google.colab.kernel.invokeFunction(\n",
              "            'suggestCharts', [key], {});\n",
              "      } catch (error) {\n",
              "        console.error('Error during call to suggestCharts:', error);\n",
              "      }\n",
              "      quickchartButtonEl.classList.remove('colab-df-spinner');\n",
              "      quickchartButtonEl.classList.add('colab-df-quickchart-complete');\n",
              "    }\n",
              "    (() => {\n",
              "      let quickchartButtonEl =\n",
              "        document.querySelector('#df-f803b477-7e14-4fed-9487-ebb9a8b7c363 button');\n",
              "      quickchartButtonEl.style.display =\n",
              "        google.colab.kernel.accessAllowed ? 'block' : 'none';\n",
              "    })();\n",
              "  </script>\n",
              "</div>\n",
              "\n",
              "    </div>\n",
              "  </div>\n"
            ]
          },
          "metadata": {},
          "execution_count": 1
        }
      ]
    },
    {
      "metadata": {
        "dc": {
          "key": "10"
        },
        "deletable": false,
        "editable": false,
        "run_control": {
          "frozen": true
        },
        "tags": [
          "context"
        ],
        "id": "ygFL_8e9QuxG"
      },
      "cell_type": "markdown",
      "source": [
        "## 2. Inspecting the applications\n",
        "<p> The features of this dataset have been anonymized to protect the privacy, but <a href=\"http://rstudio-pubs-static.s3.amazonaws.com/73039_9946de135c0a49daa7a0a9eda4a67a72.html\">this blog</a> gives us a pretty good overview of the probable features. The probable features in a typical credit card application are <code>Gender</code>, <code>Age</code>, <code>Debt</code>, <code>Married</code>, <code>BankCustomer</code>, <code>EducationLevel</code>, <code>Ethnicity</code>, <code>YearsEmployed</code>, <code>PriorDefault</code>, <code>Employed</code>, <code>CreditScore</code>, <code>DriversLicense</code>, <code>Citizen</code>, <code>ZipCode</code>, <code>Income</code> and finally the <code>ApprovalStatus</code>. This gives a pretty good starting point, and we can map these features with respect to the columns in the output.   </p>\n",
        "<p>As you can see from our first glance at the data, the dataset has a mixture of numerical and non-numerical features. This can be fixed with some preprocessing, but before I did that, I did some exploratory analysis to learn about the dataset a bit more to see if there are other dataset issues that need to be fixed.</p>"
      ]
    },
    {
      "cell_type": "markdown",
      "source": [
        "![image.png](data:image/png;base64,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)"
      ],
      "metadata": {
        "id": "2U-AOB0PV0Rb"
      }
    },
    {
      "cell_type": "markdown",
      "source": [
        "![image.png](data:image/png;base64,iVBORw0KGgoAAAANSUhEUgAABBUAAAF1CAMAAAH3lBJeAAAAAXNSR0IArs4c6QAAAARnQU1BAACxjwv8YQUAAAClUExURQAAAAAAAN+AQAAAAO+AMAAAAOqANQAAAO+AMAAAAAAAAOp6MAAAAAAAAOt8MAAAAO18MgAAAAAAAOt9MQAAAOx9MAAAAOt9MQAAAO19MAAAAOx9MQAAAO1+MgAAAO59MQAAAO19MgAAAAAAAO19MgAAAAAAAO59MgAAAAAAAAAAAAAAAO5+MQAAAO19MQAAAAAAAO19MQAAAAAAAO19MQAAAO19MXxwFsUAAAA1dFJOUwAICBAQGBggICgwMDhAQEhIUFhYYGBoaHBweHiAgIeHj4+Xn5+nr6+3v8fPz9fX3+fn7/f3Adhk+QAAAAlwSFlzAAAXEQAAFxEByibzPwAAVmNJREFUeF7tnQtD6zpyx52luVlYsiw0Syk3pRQKi0NZssn1+f4frfOfGT0tO04Ij8D8zsGRJUuW5dHoYT0qw8j5X/lp9I+p6c+flFnjINc4r0ucXEYW4jyAX/pLHu6q6pZM66rmEE5hPSGHKxhAc1/NyWnC5upJb8IX0x9bg1f6C87DmdIf+ZnRzw3HARbVyTPiwFzQXzON41BVYxjYxH8PVfVMhpGzgLP3bxwYX+S9ZQJUjJVaktxPm2raNJBQOjrbnXB5E/4pDg0rBzlHiM/4bapzPY1uc8/HzPKtLFwcGsl0Nwh5BW0EAysl4l3jsK9wjLfDyvmrg7KEoCyJwgviM+f/yhvkKc6bPpgLmKJA6U4NxWEsVrcr/nEXLHCILn4Lr1oOIsAsDsQ1xWEmVi9UyBPqrj8v8vM20lsOIY2E8e04nbJoqdi7wquMlJVatDTNGWUaWK3IRFmoaSiQEzidNCsSZSpmG8pcVCA9kCmXoDhv0l8zq27p5k8UF67ZRtDdThqpuDZUnuJAoclF6pn/MROqIZORDq6q++qvRJ23AwqWLpn5J6zP8RuAtY/DKTLqqY8mu7FBbR5J75KRDo9i4V30wiLqMnPKz9foPUEnipEPquLHVMUg6MwpmegaQJHXSzVhotCML0i3pBTgDNFw5mi4lucaV5OtglF83mQkbIDKbASdoH4JlxGd1tzCpT8SMHhh8JN4Gspv+qsZgXMQGpVNM2cdE5iQXMOZb8PX6R/FC1a7x8HjwqF/Twg4DY5OKA58N9g3Y1yASElsqmu21ejTv0y3GAcHXmgmhURWvvC7lx/6Q8lKf/qzO0nefIWErV4ok6toSeZn0OaDTCbx1CJAfzSGWxPicER/LN4o5qvjR5b4cjrQc8uDPyc/6A16ExQMMtorFfST6vKB1MX6QTMeQyanCHpB8mlTZEcG3MQwjA/kC9ZyN6kJ9KCjJsWdc7hY/uoKrSw5408Jg/iH6moKlJQblLRUp+jsko5LfExQNF73UIJo63A7AZbhW4H0LIqtNiO2gbwdjxEHCozPSC/fVmOndbneWF2RQpc44A+lAxmibwV4o+4Mzg0n2FCs1WMkQIy2EAov9eTvkipS/jvCDvzy9Siqq0kcUFPRykqNuhXhOhFY3sWpQKfDYMYUB30OVB2r6pTiQO069CdQpKTPB3/vGAfDiGBx078yacbDGV1L/ylfNlR+7pYvgc+b99KfVmvzoCD9J1qGasebXsBdInuEguU4qDmGWnjoA2Hc3fl4qmeqST6M0Ag1vivNOecysLrhnzZOGB8510jWaag8ozofvh7QyZxMkn1OmhVd7z4hTKk4fGJxfyWTE27F500Nv7q4o8BOqJJIP86OIOMSB2fFXw8Abk1oXnZXyDeDmpQGf0IQ21ccufbZA5xZ1TT4jtKujpK71nHx4aCa1bVUownEQbI1W8g3g9p9QhBbuMs1G6A4UFbnmoQ+ItOKkNZ3tGeIXiSrrmPXManOhJqmXpFmb8L4kuCT1wBxEeT7GHywjJFQNNRE5G8JOxRhf8R5U2qz6J1kgzgwJHCUFahh2fDt6YBOc/iAK5voD81cttgVUkwuxFOENA+izcyqmTRuFb5YvqLAFP/tCgLSPxzlJAaf/elB2XZFFz3KRaQh2YDYUK6DM2XPzK9xcOg4k2Gg1EClk34gC/yDr0j4256//6EG9k3idUoyNjtvMOykORFbBgMCyBkiCLTs2jO4KZVMlPVf6AbzakFCH6IAcKZWtQx/0S8I6c/uaOBUPanpIddQQusGH+AVckZFJItWgdlRlHo78uYADMMwvjXLpuHejJPWN11uUlFFiq54Q9fLWpqIzYuErncZNZiwUFWLRj5Xe2cZBNblvEd+hc5i0OADCqUCf2qfUKPzTFq6R+saI37wnz+xTLlF3ESXKFTYEc2arPCdaU6/ZOXcmxsuBOfH8I1zGVdAZr4h/cLaOeMPRXGH8/vCd+DDRGtKfGBp4DN6GIoImxt/SQpf6pKBDDNt7rJ9VV2iPeRtvLX7dc70d4yqklq738j3eyH9K0TTvHAy0LskQaybCSfDdXNS44oRDk/NdXSJcsniRK74T1VM/IZkcBWgM/0UEe6W/DrnFzdQsuxMZ7idOhqG8b68Sg6c+CJzUejGY6eSQ4s05zZQqQ1rDNYb4+YeVtx9q1aZw8fwR1pgEhrvCVp03O/U4Bvr+JaiT05Ns4SS5IvosG6aY3FYNc2YNadcxo8AI/09a/eVgFakg/Wto9PhIwjjaD03GAKiyUAmihwV/lUzJ9gCvVC4rtYhKM6B+x7kjOGL2J5NDvakxA7JRcnJZ8Bv02UKGLUGIw74T7/0hyEvVKQ1V8HhBjVMOeMec74STnQIdCUDXa4GwhtRH6P/Ui0zDOPzcB2flFWpjizVZGpAbYOvOzOiV5HD+XODFoPSeNR5RHKJXOCv+Ej+/st1Dzs0EWoUF9TUpdSoUQCI5kOH8RwfLgqIx2MqQmfUTsfFGhRBBat+ZgSxC7VTouHr/h18NHm1geAuB42OfLnVP04L/LJTkRsIAknDdBZfhZHyaiTSEKiqFFpmVSOTQT8f7evQ919X5zwdiOqWVHlYP/Qkg3qrF8etZEjfP53Ew1Gp3qVGOrl31x2RgbIHfr4PeTKkZ9uMbzWMT4AaS57Q+zqPBp6FJlAPhUwtHZH+AE6SVuoUa+DwgS+Y8vAhXhfHweUXH5jsFGBVHjkg8nN+Aj7t5dff1OAI0W+qWV2djXkkBVtMkUJHzREaE5F2j9EaxitqAuRpfLb0qp9OTzDNSg9kwaHyQSCjV8GPPNYh08hjao80fEBRHp86gp+pTOlyp/389usfagqoH/xQSlAJ2Fy4HkaJen2RarkcdqJDU02i9wBbKmnc4ZGnEujFAhldpOf8cPfo4cZ/5R6R4QOLZHyqkIkHfXFNTS30dDuopsC5oplOMZhrdsMf2VfVshpjqNuowVQHvkMJdqBr9F1yl60yxiOGAxEOQnN0SxUMPujN6UKcejSV4Ac5MzpVlndUxPIBDtXTgsLRU/AsY8Txs4k056cVY8P4kUQ57QfjUmH/qSHqGuHSHwffVJdoeKpZcCfJ73uTfcoF2u6NtTAd3OBlthnHI3pbkFadneChNQj8B/L5d33L1tK1wJ+qT2WQIyzIwA0MfwH//xzGut4Sx2GN5h+bJEo+vt34Bmbw41AbZyfPL1VVdxH/ugvc7yfwWfc1jC+LzTwAXjUMGePU32RJtYyO2dBfN75YfpMznZfifz+AdoF5r12DaEfJfzosT9zQp/TQmQzk5q6PuqSpFNFfJpW79IwD+FzwcBgLFx734kpHOb3QkS0JOgxJBj53HE4yxBFwT2MYhmEYhmEYRjdWZSaiMS7pR1qyllWe3BW7IX7ddCG6yz3/DptNlDnvkT//hxqYC234LVvjTvi+dJglTcNt0djTjwuP0TnwdVVdoqs7cubfDuc98utXMlZag5efZnlaNeObVbWux001DYPAZjx0enpOjWd3iUN9nj7fwkgXvB41c959gLh4lM+idCq97vI1fOCUqtx5j+R9LRIvPuCIsRfa10AxEDftOGBLOsglKc7NeVX35kVMdHDPgfMn/SCPv0IqdDm/J7iXHHDkGWUw0H/3DT9LBbkkxbnlqVBVV8hRwYZ/B84ro7/E+T3hG2AFA5lKyKd0oP+1Dl/JUkHOHHLi3LJUwEQM/GJsPX7PqxMeXdpUD+jsm+vi486ZDvpbdJ6Q8iIDfvZMI5tuodfNRQFHzsAkjcgNGC+6gm5PL1HEyC6j5i5LhapuZMCL+rjFikjEwMl1mbNOtJPpfftF728YhmEYJaQ4+uFo5Z5+tDpSKjzlEjb2k46gxGhhP7UWRzcZt5Etw9oOn4S7Nf2udeXBAoMjmKYCvkaTV6n94PjEVgjvpuzwMbS+XFNjkJG4Nc2SRAPxq+YQEp6VzAthkhWs6SAOepAz1MBlivKM53ZTMLAAnROP4c8TO3wA7QFvrkuD/+S4xqAsMrpz+dNTHNjkXdm2qo6wXgvJwgWPk/bE5u6ZuLHD58DRwcE/F08EdjOxj3hnNe/sHfCfpMTPxOYH8YPfPLH5EFJBG28w4c870VFPgh0d8KtWzAhNpQNNBcqe1/pLSkqejNdtPkXG5XOegSkn+HEOdHBnfB1PVt8mFeKhRN6BLtcp6R8L62nDMAzDKDBg6Ov3Z4W9dYkrlPv60aljYmkXaeEuDUW0IOjgWoq6YIV+X5FL5DPkp7YlHVR1YWFYyKqNiOnWpF6koUiPB2vXUpTFAeXoLpFB0R/ZlnS0WlOuAsdRoXhxxZAri2tUBvERoRzLF512hOux2kJzEl3HFUpHz6odvO3zx/Pr11/U5NBI+SMM8nnwboyjWnXATnxJ8qSxn/FtvApM4hQbP5L//qcaIjgqEh+NIz5L0X/grDpgJ74kvijx07d0yTIyfzIcE4mOxrGuJovMqgN24kuSi2Kpp4wVL8ySrTnbE/YHUrt82qylTwlFhmtE3uK8I6bibdpAl+CS+CLynC7SoibiLl6/p8KnTTXJci2ugPlw3qdNGScKKUj9ZfxKFd8cliRPcsLrAhmGYRgHQlSyB6bRbL9hOr19VVikSZdmohp5WkryGQ5nfDt/GkgXaYpOHenCTse8YII/HcxtzbsT02NjeztXyaNGX0iGXVIBSzCMz+IDNVtnGEh3BDdcjoo1mXBojvCNL5ySG5mm1Ry7MPOhwmTXcIo9oir0+DfVClv50IGO1a18/aTT9GtAjt+2yxEuJlN9W9V3aERIJbdGZJ7RDXCdVHsCvIxDVd1g0O4Teayj5frI5J8L/4+fUS+8CC+K7Pw6V3QywlhDdyqwRz7wSlXh1JEtdkU0YsfmTn79+quaHH5dM/jkkZ58J7HQmy67Nv/xF+IwoceIKqLBOx/Ijb/QqysBIw/0fqZHp3R8baTd5Xo6+Ip4oar4VLij+zV8QNwBNYXltI/211qJiHrsSAXUBXuWquTLI49C5F0OvMzVa2iA42JZ7IvNY6zmpacKnfWnQrbiF/+mK34NRrzwsSsV+LwTdm5d6CzkMKvrhYzcYEdAphn2cp2dVmsZAX6GPbvo1EFnGoSaw6kwpTzb8EFS4Zhyrp5uxezomL3wumKcCtgcszk5wf0ol2PV9GrxJCq0heSAZsyqjv7Hd4/WLJOVykgW1tUy7C3Ki53xAXeH7gkLoAnZmmXxqSK+2Q9SQVdH8xeQQRc228BVUvDQU/OrmMP2BMORp/ygHYOPVaeMo3I1cA7v4cB0lJQCq8XkCt4M2O8InJ+CLAgmnKopcy/hY8hsTjbDMAzj58Al4U9He0PfoYSUkJfUQnjW5gNmlbreV7mrnoQL5PejcXd9h7tzkLW2AdAopZ+G97KGWW94JSPs5ILzabVIvtm8E30jgLG1kOx6QK9khI+s/IropGvamnxDoQt0WePZgsz+dTbY9A8nM6rt4Zfq6viZUKPxCf0FgD9hugvw9w6Tw1r0jQDm/zg75vYIme6r+dGIqp9ySRfOH68wTa/eXT2umvNJc92MuIYPm4Z7R8g44Z4TtsHRXYC/0GD8WDgidOD/OLknqdRUmE3uw25LHTh/eSpU1ej1BOJwE141/UdnCyRGtTIcoguQ6J8C7o8D/8cJFkr3qcADe3tx/tqp8IhWJDuOpD9J/wN3Ff/qBQtqY+P0w6GX4vQT/+cRvaQh+JQ3Y3zBDI4yuhEV/o/gL00F2MgucGziQcXPLAbsygcxR7+S5nSGsMXyQ7D6gmEYhtHFR1TcvzxuBPCQjtr+ApxqCxFuZK/8+rG//JudcWsk/H4CbgQworSZLVLBjeyVXz/2l3+zM1eX/rCaS+cI4AoTQWeXvqaH+aQ3ZMAjLGUs8NTV8BLEqrxjnzo6+s4+VA46RwBTpNZ4myNtEsBW2wD9Y4ElI8FhdlLdUjuSz5X0+r6zD02FzhHAHH/IdEgF9+z0D5z3VOzL2xZWdVOHT6/XdKZGIj2r65fo7FPgeOM5R2kqTHlpINn/mBhrn0kJHnPQToXs+r6zz9OMwI0AxqGZNTf028zRPYjzORZRZxOPBa5XMGeIVXnvxl3At1gdDvyRRJoZsuCe6+diqWAYhmEYhmEYhmEYhmHsnXQOgvGDuW+aZoXlDR0vZLHu2+KaPy6s4hWObsnLMg7jA/FrW4DRMlqAlWLKyBdCkDnjg5yM9BL263xwjBr5ouzxYxO7CR+a5PPGqOEJc5/Ca6OTXZkltn44180YiEgMQOYszx4+te7V+Wvy91+/fv2h5haTJC3jZyMnLHV8Luuh6mUk+s2KZGHOyxnDnn5PQhjHbIXZdvjFqM5SKCkv0RI2zS1WW0buupeIYMBFM3+A1yMEkC1jHUWXmOqYTG/Z3GNnHEfuLIYjN4d2v85fExKF9jd8D8axBlmeRRtyTfS5RPHdNGN66Xwl6wU5yBUIg3OgT4lnfPSk0K4KobSIBtbIxTjGsiCWuPeT2DpWEA8Zdg6eZIDGq78IA/zXjZvLnTu7mKlm3K/zF+W/fxUGMsTMfM6cRuqecjR+UCoy1/7xc1kAVO2gS1354q5sCqH0If5wbMsCpG2WlmDiUjvLe5GK7Gu7XETkzurgFt3ar/PBEhaaW4uqA/oWT8Ioeff4JVlAGCf+Tbsrnwuh9CH+cMTgChh7ZUFy4a1bVuJIRtln1RcfydxZHFTo9u18iFD5T5o25FY0KzDmZeLeIuoA9bxmGaEqwD2V3V4WzptmThqYSvg17+k1xaULvBoYXpE8hVAy6GZqgtkfm+Zp3rz2ywKJ7vIuWjTjkm4SLaY5plOKGCtvkDnjzs9RXXnvzu2fr44syWoYhmEYhmEYhmEYu9LcaoeNIKv7xbQsNrK9jzJ5p0KZ27qjN6vToZPtfXwjbtFzdO5XzJk099OzB152x3M6cPmQ0Kcy1MdG+mRh1lRYz7jCrn7+BHQ6NLf8aUPiOcjHd+KPX7/+psYOsk6xiXQYj2Fd80dJ+iFpwR/BP6OHpuaVQ/WCarZqHkZRUOyDuKqbmr8uBh/j6q6pj9jYvPD6UN6tWoSeO+eVZOGyWXLXqLtZxm3dLOvSit+dDnXT1Nv5+Bbwd8p8ZeiMRj40KyoL/F4b7WHnbbP4mzOWvhqxzjjHV029gN/Qqf4y7GPJn2woXyc+6AWPmlV11ZzxIqyRW+Tfe51xzy5nVxebFtlIhUCXQ0GilM6gvgG/kSj8Q809uKX2iFQW2Chv9rQ5pzfDuV/xF0z1s0AIBT4u8bYZvT74wHHdrKH+1SV4BcGrlBFTfNhIL4kwWdgv/kO/ysItLFyasSyQ1YiHk0QpGYxcpoRT+LiIZEENzqgWC9I1kVsgeDVZ+EhmVHpjhQ09Rd0Ryzdi4wOXZiIL1at+0uQPdMdQ7e6dnsun7wYLl8sK7HB4ZvWPoiX3gSMp/DEKgOAmRsZ7fRdZeNbvp23aPp5lfEf68325atIl5Dvxl03mYb1/cHp95j8OJ0yveJRH2wcxnedux/Fao97re3B2OThwbWKmP98XqtwbhmEYhmEYhmFshW/WGz+bcdMslnEXik5IgpGPE5002tnXsxeGfJB0NPcyLJ/ocUrMRHxp4vRdv0vm/Pl//0NNXWSveNR65e8rA44+WcDeND4S9AqbGc+jAT1OiXmMOR/h0tgpDeP7wt8pf9OTMlfRnA8ievOTKecdsZET7D0jH46xIdEJNisi0/q0enbzyQawju4xw4zIM9JKZLjB/BuyI6V0XhUn1pxW83IncI/TOWZzckRb4Bmuf8wXiH9AFtTczXM0/Sh6T3QSZEFP8IsyQy0xhVCMib/BnPrub/fhAasyl4Oa8Xds/TaS0uPkoleSk5dQThieMX8LAs/xVLeCLNxjvlywJDSxiy9iEzf+m9iAj1Dr5qp68BFN6HGaNuvjaVeQR+vv/rFpK/ij0mNQ8WuZSb7A2CN+/W76cCIY1zJBH563loVJtN+d9zZAFl6eyh/AiB6nif/+3QJ3vM3rKTq4Kv35IVAZHa/CQDzChr/qiiq4ptMTPuE1NYDavkJHbC0Ll3EGHqHZQmX2AFmgmNY35Q3Sepyq1+b1ti6GeUm3XuZCpFemPz+HPGt8UZ6gTqYQnBY9TrK1zeGvjWAkTO/XTzyUtk2PUzWvf/I4d8MwDMMwjD1zIO0I4915RYeBb3LJWTom3rNgp1JPnfRE7IW+Jn3zxKulTTge6BkomZj1jL+zEfwk4g90B4EeE3yiINDzIPHwrlEQ86aawfEZTjyxJJgIjX/b1fkjBgUBG03tQhDvQCnprzgBc67c2pYFPkoWLiv+hIXPDwt6QyUTuNLOMjZeO39MdxDMLbopj/liRCS4RkFMsXSliyheVjBxRx1OSq7qDwwKghvJbC4FsS1/bP42VfjCeMvfJOYNXvAMAinSqTFkSEO8SHflmVwgHdQgdDBvYhzemMuVnCoMWU0aeqeFJ1c75NSCCceVW06wq5epw6NzWDWL6gmpkLnGyAcxTBIKJrw++URWdM3pD4KZQBv0BDEciMLG75T0UvGqPSIKhMgCVyYoTS5dtiAkiUaUYgt1r+mMe3TG3f3/fWiiE2LCkdOhgF5Laqpk4iRzskCyVJTNokf8iH6gfCBLU6euCfrCXpvIBOSsyzWhPwhwyknQE8Q29A9ecNxEhcKtX4Q7kgWKxlEkMS6JsO2xmOrqvuHRDfN5V/9fLxoOISYcQ+ZOkSsgewUTf19hYEF4Q0wpCEKv5XndpDHHqWvKjWRWuiKYgLy4LteE/iAIne3XE8T+GYdV3B/DeuypXiAhkWx67BILM+XXcjnrhbd801v70SbyxDh2ycKCv5sjDiUTE3ktpmDR46WrHEow9xSlLNgEDnjE1RFvIvRFdrim9AdBllqL6Qlin0ge8nfhj5SAzCILjLiLGQl2wSa8Ps6Ha1zKO5F0fCwswxsKKPoNVJ+bj12yICqcJa9kAuxVqiDlcqbgEZsiAG/E2Io02BS+SHOsM8Uv0tkFU4vgFEwuCKpOCWTm3zwIHSCW/ryRvv4F1QuGYbJgGIZhGIZhGEaRbA3gA+DULRLG+DlRV8nCUxO34tPxPFlOCr1HyolbM8qRhlBN28tMfWeyNYCrvfRYvDdxz/xaPxzN8bvyvaZ1c1Xx5NBbfEd58F8U4gmjS+7Q4VVoQRYCJcUYn9707ODZeg1gOY+W6q2qm9el9CXOly9sqEeUtvej6nyx1s9V1y/rsLnlUKJ5KGd1NVuseSJfzQFhEeGzp2q2XFyxuMb5mgiy4F/tWEbE+8fh/tvQoe7sMR1DTMqF/xTTDgHHsMHegcPfKbdaA1hSwC/VSwmkU+7JjhKXT3k27kwvpANv4SvGbYg8yFK//HlZMjDcxJIHo0Tb4zKv/MmcL2eolLiTTrEgJTwKxcmQmi4xCiHclr37z6p5CHphRyf2wbH9GsCSAnKOo3e54q801T0lqroiF6FbUr5NEH6C7tZI76bMmopkAZbyanw0Is6aR9ybTCfNmiKWvsk1xZeUhugF9a7CxWbHq/8mkofgPG2v8Q6bIPycApIMOPqUm4ksPHi7SBbCF6Yd2UkWTnixcX5T5DyViYDuwlNR7Xx6rF/ba6Zp0vUsfdBZCGrQ5/4RZGsASwpIMuBIWYtS7pRSaYlEqTEKSl2dLFQLrr2F6udAooUfIllAfqbb0C16ZOGWbiYq4RHvnOt7S9JLR+E6LltW+Gr61CziVkcUFERkGYboZCFwtfI2mmuqEU5/vheb1gAe+4bXRdYCC5wNH9nmSZb8jZjOfc2+m7NLf9HVtdYKJmkL8eS6M7qOvE2ZhVCdz2MVohFOf74ZtgawYRiGYRiGYRjb8h0bysYOtNYA1u8Ce8D35m6P9DOVydfsjc+bdN3f5LzHrS/Ib8PWawATtzI78u28kyzka/bG5028uC8Rn/e49QX5XeDvlFutAYxu/pMznpYxw5edc+6Dxnen4xdoj0mzWmI0yCO+YLw2V3QBei2v5Cq3LvAEEzvkS+ZGdl0SmECfdQd92brPrSfIA2f7NYApNRZ4P2TQvIkXIq9r0tzyH3EmU1Yfyf6hGVUjJKG+U5Qw/K1ie72wzZLAkBFQmPVa3aubnib0ualTKcifQ1gDmNID33GQVi1ZQPGq89puxO0WIxeWjXwtDOl7KZKytSxstSQwYXphv/B3nbAG8EoGfZyScMj7mOFDnbwPHN0cR7YZSZ1TpqdXrXWBh8nCrksCEx8kCz9mWWCeG+u/y/LgQPDanM4aTCzlAUX0tsmID/l+vusxWfghT/rr1wWmy5rmaZgs7Lok8MehMUh/vimi71toGQG+9/MbGzFZMAzDMAzDMAzDMAzDMAzDMAzDMAzDMAzDMAzjo5jqMibGj6djdKPx0xhjnHE8kQy7/vWuWseDmc/j8Y5H8BL2KvtQjpKVN28oIuFct1nVMyJ1rkbLMHIb7NX54GjNo4VkEHpWgkXhiZdJvOHR8IW5uB/GWbRgL5aPa+pIjnNRyJxHTfMSr2O5V+fDQxY/DbWFxeYlTcMUB50YIWEMWGht/5AURjWdEU91C68nm4yRO/PatOd+Ish+nb8mv//Pv6mpTRZ3EnU1dVMQBT77DGSujkO2arv0K/hmopA7i3r3sd+v85cEM2n/ouYWSa7CA4Uiv2lORLvyroK8bO4UJkyxZQfemY9P4MaQliQ9SQYUnCwohVAyoiVFZ9jmVLbZ40zGQc8aElAqBxC2bhXpuErXAZCIHPk5wSQK02hV68x5KivT+tjv1flL8u8Qhc5Z1dncev9kBKU8z2ovzZmfPuNC1QrXPgxUQMf3VHfyc+8LoeRE63DznPpTjkQsChQCxO6IlHJaOSXZqh/DOpwaey8fUlfwXjLnuYigVx17df6S/GevKPBc8/B+9IEY3TH0TpzhIq789KwP3SRKbGSKi+7FB+Em15ZCyYkWSp2x2rhDKRyLAl627BGbbQ/KrzrYaejilXhdjkhl+1tmzk+iEFsvcy/OXxNIwu9qLhGvshDSLTyc/GSrJySiwGE8Rb6jVRjaofQgs/POID2SpvAmlpLm/g4MlVeUNZ/9ws3uXknODFPFM+cn0WWtl7kX56/Jn/716+9q7CA0yPSBGPdwDqoucwYviQLqm26/b0J1AJRoK5Q+4knUA0ThLFzEuHu5d88c+zZR5nzP2iZI516dD5Ww3sazV/Hh4dzDkq4N62jkokDv7zFcGq3H0Qqljy1Fobzdy3EUK+LIbzaSOV9KLaLL99ucDxZfwlE7XU3+KYONSkwsClEtjjKfv5QX0EGjoRBKH7EosAccu0WB1wyKLMVwn15zlpUf3vlIKhm+VbJX5wOE6z6hOKXaGUvFAhU3eazyiiosCrrLiIYxo0u50uH88sos7VByorVMclHgbo4+UcDpuc/2c45PuIabrqG5nDuzy4OUZcR+nQ9vwZaau0vDA9DDNGv6o5g723Wzvn3gE2rW1fMVG1UUmqfbF9QZKQy0GcjfHTVJoD7Xc/JD6dQOJeNI+h+YSBSo9Th/4pj1iAK1TutFZEfXU2RwObNulhQxvCIhc6bGBTmHd7RXZ32s9OdLk67BA9Ay5Hj7JC6trSOigOdvZEcp0SvoWVojM/o1egqhZESvMhIFBLWmFOwVBSRx8vED/Vj+bVRHEOr4FaTO+ICRPPtenTWq6c8XJ46/8aMxUTAMwzAMwzAMwzAMwzAMwzAM492YH8SXM+MD0KF6jtPkDJQGnfSzvY8OBn3gndX3boBmSqdDJ9v7+EZg1kr0ZZ/P/CA3YeAH90mYiru3T/R9ATVPMqYMmxr5E9DlQOpvxuHx8KMhPn4WGG80CsMwsLfcnFJET5mXYdN+IlEY6GMzvaJwW2H8iIyy1BOmy0G3mNURukN8/ChOkln1lA6c9md9r6CLSBT2Rq8oXFYYxnrLl+gJ0+VAcoBNZp0oDPDxjfj9169/qbGDaVEUqnVzXI3rs6Nlczer61sqQ7kGMa0xse36Zc0DV/UCDHF7uYhEgX2Am9elWDkfZ3U1W6xZZcxWzQNXKZwb+Q9zpZxXis6TTDXxN8uoV01dnIvS5TBbNC/b+fgO/Bmzo/5PTzrI8p2eXpGKJHWJonPe4F3IMEKeskaWBL97voBnuJKDFwXxwSMa3RBYQD5mDc+tJbsavxgoil92g4mOjPfKv2yvN2vh3Ft0ObiZv206Hb4B/wVR2LAp8QNv8OjRtDimmuPEDd3Ei12yPcpQXlyAr9MLrjAHlmpicbWRfIz9uiTBx4zfPk+8Q3insVsVdp4MXnkC9gSnPjY5Mgi2QJdDPJsnpTOow+evkIQ/9KQLzJYPi8eoKIxZFHTsuLxY0vl35DiSFz6m968XuDUnMlHQkBIfMoIZM2XVNXKL8F7VhKOPTY6JwiD+uVEpgPNIFvQtXNDLnFD9icGLZQfkTh7uDu78BetmjTfcJQqRjzDCnQQQ5X7kFuG9qglHH5scE4WB/El/+8nTvrqn5PJJxqJw2YyPMc/lvpkLJ+ECKn5J8XeJQuQjmuxwtMLiCpFbRB4dHDtfoInCXgkT3vUtJInPolA1z1xfuAizbKM0XTSLTlGIfMTzXqhUwJSaMGc34L2qKYlNjonCXsnT/hn9jZkoPMrKGaMwQSxOU/KXicLazSmMfCSiUN00p5FbhPf6LqLA1Z4iP1wU8H6fwowz9DbeUtlNxkwU9LWQAkBFH3/ughck74pO76eA2gXwwcsuVKdUpQw+gigs6LbQMsGN5M/FInh9D1FwD9Km4EPbLenP9wQTHOO5h3wqzctcFKRrSCYI8tKfegF3FTQjOhVIobCPUzmNfQRRYBtc5d1IF/g34b2KFY57FAVqP4dbxRRFgUuw9Oe7Mq39wiv98FpUzFnULQim89bXTGbs7XMf9Lavz/T7pXfz5QsRvL4DWwSuq0WlP98WG69gKDPR/4ZhGIZhGIZhGIZhGIZhGIaxHybv+OHHOCjsc5QhYNugVfyZGiMI1hiBnOwtmpzsn/IAAqGpk814/NRHoscpNoPo0tQpC+PnsuRVzIMoyHRaXrc/3ltUT96NXlG4l7Ewik59ZHqcYjOILk2dsjB+LLJdZkQ+Zqtz9NB+6RWFuW5dJejUR6bHKTaD6NLUKQvju9K35Shzkb3pZTxxEXwFUZjhdQnjCb9Fd3WPU2yuKNdHlyZOSRjfF8yO6txylJn4fVaE6JVQMYFiFegJmwnSGzz6EF5J2cK4RSsk2mcUw1wJvKgGJgRIsvdaHEMY5mC26HHCkEmiNCaRh1VGcfnO9G85KvDWgJ6TqLxI9hblE568cos3d9Ysx9UNRq5HW4UOJNpnlMy6USm9yFNSSVe44WqJ2ZQ555ibxUOhW/Q4kfUpyXNJSqbN69FxWXy+Hxu2HGUwDzosLDGL91tPto7TvWGQtjjw/NYbSv1oq9CBRGNFo41KOXgcJx1ixdajTIkJPU4y6SFM+YmYpxM1vzmQhL4tRxnMW1Qjvdho8mJRFBZ46SdaIFAulvHsvFXo9oQbiwnHSceMFb2ilI17nGT/Wi/HMZQJhsvvwbN5y1Fm5lNxGq9CVBKFU5YVmfpAXKsouAlPW1IWhXJQfMU41lqeHqdjVnnhPjFoNxcLlZ9MSKo40UqiIEJzE2pbHyYK02Z9PI2jF+hxolrjVfWQ1IciqFL8rr0lB4gspAHWkaZXUZC9RUUUtNCNVnD6MFGQRkt5GcAeJ24nJFP2Y6iQUJNRcaEfEmQszasxqoXy9nWJCz6Z+yUXvIftRSHagjPbqLRXFCbdtbwep+rlqXcRyVwUdEGo9OeH0DSrVbzsCj5JYKEkesEqCry3KJ9ga0cww1TLel5Dg2wtCskWnHR32ah0syjc8a3XpcK9x4mCBKWa6HHzOl/lLnRt++eHwNuMxs14/gjBlUcRBU5MOYEJ4F2h5wb1tO21QpK8bqNSl/TdolC9Nq+3JKR6ltDjdE5CSzcpdCceoeiQ0i+gC0KlPz+Gg/pI3RPZvucoNjSNnEMRBe4HLXYW9Tk9obSf/oTvTT+HVxRNssJjTo+TK9T0zPgezOu66wtij9P0fv1knQeGYRiGYRiGYRiGYRiG8SEc1Oco4z3JthwN4OtzyvH8snht53LK2yMfvTdx5fcJKZkI+ex+3jPypO3xeO7WGq4mV/45k2BTpnP3dT+YyOx+i64ZvUGchQWIe4LYG8UtR/nzzSIXEVkavDQy9INEgfTXDHd6RjR4cFXJBE5wGW9Vhq/Tzl9kLHjEr37MZiN/zHSuURBuT1JZ3hzCE0zEvVxWcFV/YEgQMs+HhbkUxP7Bq422HOVl/O95RMdp9o2fJGFOF/AMiIwPEgV6GVO60xwDSlYYoFoyARmyOL7BKu8UX/UHuoO4xeaSDzwlqKbnlyC8axSE25MUKScbcgYTyw7/FlzVH7sOCAJj87F9ChvbQeydfMtRRqOU0bMZwgeJAr0Mnu4oyUOSWjLxb3gCmNQf6AmCxYhP+XCJ4XreNQpC9yQ9Z6W5oLwaTJJ9cU3JVfwxQ4JgbjFssxjElmy/5Si45VHPNW+/WdfjurmD4prJjChlvnxRj1fN+lZEYfTQ1N0Fa5t0EOlV3dT0NkgULpslj7WkCMyjVHGMRXWTS8kEVpkotOjyqAbWxY+kC3LXGLE8aa4jU9Ws9KzomtMfBPOIwYY9QQxlhy1HgVhJckJECXrDa6SPImUXW8jsVFwqM23bwXWSXCzhHJMo8EAUKbzJ2C6PZMITBuyXTMRTQ/GDgRgX9WmHRzwYbkxF4YRTIXNN0FtQCRJMFWVhOSu65vQHwbCxJ4ih7LDlKCFKASUmHTgWXG5G8SMzSQFvDPrIQ4axK+2IY3penKNUJh5EuuREp7JBdiXVbW6LNaQ7KUJIE5VMCJa0qESWRKK0N1WHR0JrbizqZMpcE9z7eY5M/MNnXa4J/UGAE84KPUEMZYctRwkXkSAKVAj41AUy+4wzi5TOSCsX33DZFhz5x5S6wkXQiy10IDbds2Si10gCpl7plWYriQhFj8SpfxdUdSPZTF1T3PO+Rib+4bMu14T+IICIZk8Qg9l+y9GgFCQdXCweo/iRZHAj974ZHYtPpBUyEgOLbbn0k1pEFHgwfUdQ9z6rlkwoayOv1FZWU0zRI6EXr+n5SBOeZK4pei1pwWDiHz7rck3oD4KYJ3WVUhBbsO2Wo5E5EQUvuIBkAD/z5vRahIJfgds9FBbboo1xYrMo3EgBTq4lk8qjb+48SQxTSh6JZ+1fEd2Qu2aIJXZSDiYgZ12uCf1BBENPEHsnGjd+h8Y2E4nCpLmjZPFF1UyS9wFt7UgrwLQjF1tohakUT+RaMlHDh2iaWnvCLksJWPKIck/aoqfyUJlrjlgiKYIJyFmXa0J/ENBOMku5J4i94+5NBGMkCs+QD12OgBTCkaxoBjdxhyiEfUJ3IGw9ulkUxH6E91UyMcFreWW5oketM5LBaYXYNWfBbwb122ACcusu14T+IEiKtdrcE8Q+Qc0g2nL0sbniDkdKFBUFMt1y3G64f5rXZVkibjUaD0te64TdWScfb9HgCXuMwgyPFNYAUViSjjpix5KJYdPzFa8jIjYpJY9PzYIfHb7J5wrqJAs2ZoyscQu1EUxAru5yTegPgn40Ph1BaCGY/uxOectRDlZFAYi7LrABpYVOHGkKsokF1u8TOpRoj1G39ahbxaVXFCRSWoq3TYC9slVYCSKBnRKPlN6CexJVDYQPNoH7UViZBROhse5wTekNYgkrgozlIPa+HWr/lqMUk2i70Nl87kTvwqdP+Ig32fLzWVqKT0NAm5j4T3YlU+D8orPQ6vd4ct3n6jifu+CDKdDvqgy6iCi57n871N7xCirjxo+gd8tREwVDMVEwDMMwDMMwDMMwDMMwDMMwtqX3c5Txk+icPvt14SEdUzcSwX2nz6aYTuc6fimahQqir7359Np8kmrP1NlvSDZ9dn4QcsFx1vkbU0woJGSajg5Jw2gwQIZoFiqz9s/qp9cqWQiYu6gDWH4GSMho+uyBiEKYxXPqXl48AZWAaY6RPxgMNg72iyD2fnqtkoWQzsj9/uTTZw9OFPCmQTQBFRzzLFP/XnkWKriKd6MA4dVnIahLrDYOme2nz7IonNXVbLHWXXZ0WitdWjePKJ7PnqrZcnGF9K0l2badN8vEk2frcXXX1Hin1zKOpqb3RYE/NPej6nyxzicPB1FYutHI8uL8FNNRPMNMZ6ESx42b6+AIopCF0Dd19vDYYfosi8Ks4RGtnB/ctFbKLs0Lb0k5441iZZYrZyEehLl1ksU+Gh4sizJf58ZAQBu5danEZkuIZdj7SQ1+GuaqWVRPfuSnu6xZZTuPRNNrsxD6ps4eHjtMn1VRwOhanifjp7WecBK90LsXVx4gfoKh79vPm2XiybO8sRvPhYhFAWOfZ/yC/AtXREDoPT/y5kYIyL1ILzQQVfeaZRYqX5SIQjK9Nguhb+rs4bHD9FkVBaQC9pUN01olobDFq7hKEsHWJeEb0kz84piIApsgqPNsUDZeMdUXcU1zM1thXqne3k8xZVXlqoRatUQOz0UhTEnNQuCx/99GFHaYPhuJAuYihGmtLqGwJEEuCgosdkP84lgWBbllhtwbRYCYxFJ10xjF273W+XQW6iNCyQqIaHptFkLf1NmDZNvps5kohGmtLqFKovCGebOCBI7j1qIAE9oHYvJTTGVW2bN0OYgbSbyCM0eYXpuF0Dd19hsTps9mohCmtWqSUNnaFgWY3oQEgeOWoiBv/Ip0g1ztp5jK6RmrAJ2FOuOJtYvmJRnsH6bXZiH0TZ39xoTnzUQhTGuVREflMBeFN82bFeT+OF5y4NzboZa9onDL936mqkA2xVQM93D2s1CZfO/CML02n6TK9y9Pnf2eoLCNps9mohCmtY4hFDyTNBcFOpDFNvNmmXjyrL51Oh6hqke1uX5RwBte8YqCCIS3o86mmF7DwTU/+IuF2MeikE2vzSep5lNnNcLpzzcinz6bi4Kf1opEI+gdtERh63mzTDx5Vox85Psd94sCGj06e1fujfZFNsVUJp9SyRDNQgWRKIg9Fx5MPkmVnZ0I+QinP9+K/umzhJ/WetI5wXPbebOMK6MzxkNm0Z6Gj41Tb8ymmE6vw1vuIJ9em4WQTZ3VCKc/3wobr2AovdNnDcMwDMMwDMMwDMMwDMMwDGNbJgM+/xg/AvscZQj3+EiffKbel2jIVgE70TcYgIKNxikn5/HGoCA+73PrCfIHsWwwlSAWhVE0XONNvJco3KchR+fxxqAgPu9z6wny5zBqS/9iX0O13ksU5jK0yRGdxxuDgvi8z60nyG/D7//zb2rq4CIb9UlQgaGmN/JeojDjAdGe6BzvNvYZn/e59QT5XcDsqL+oucyEd3mJIcUpyUBVCJIKjBaeNbxaAQatNQ0WZGADD4k8kRkkj5h+xOMMJTgMKFwNE4V4dCEmZlKBBUuYENakmb127Hrh9XuBtoQHetz6gjxo/h2isGF6lA4XDdCLljzZNHfV8Qve9wxzGs95jCu9oHMsc4Lxn2TDl+NauuqsWY6rGx4num7qozEd4LSJxk+1gHleje+vYVifkjxdQRRWy6o8ctJEYTj/OUAURvRy/XhvArODZPNAeclLkgIZcKx70HIGlWlHM3pX15hHcAqNITMUb8jlRGeTDBKFaHeTe5/7nTBCFDrfjonCFkASfldzJxjVrkZiQWaZGy22k+ZWRYEt9FL3Q28ff5hHcqINDxIPnVaydV0hxENMOOL+JdAGBnqaoE7F5mCPW1+QB8+f/vXr72rsYxa1GTglwoF+XpwoYOqDsww/z7ClyoVuMoapuM51P6JQzsPXdf3c1LybfgtsNPlS18VZ/j1ufUH+GMI7mDW30+mU54yFF9qtFehn1Fzd4uwmVP+Cz+1Qf4SYcOwSBcIKiHcgLC2iORuVP3kdF6Twu0UBqy/Q1ajqR6s6OVcThYOCC3j/DmQJI7EIr0NEYYbKoF55y5NOpfJIDQleyMIHQgqCWyXDRGERpqZdU5uFOIrv/fmioItGpT/fEVIAq7DUxkLrfjdc4r/Oa16ehxqTjzfUuicH976p9T9/1QmGWtM4hl3NjQBqC94/cAfBRo7iJdMoMndUeXO32SAKHwRpvfbPd+SRno07jxj/nGRoGnQUwWnWYGYpdx75C57IRgXozk1LxzpaUh/DCkmTYVohSVrUPdcUnFji+PmioItGpT/fk66P1OEdaV3B+O6YKBgbMFEwFBMFwzAMwzAMwzAMwzAMwzAMwzAMwzAMwzAMwzAMwzAMwzAMwzAMwzAMwzAMwzAMwzAMwzAMwzCMiHljazIZhhFz3zS302h3nxbH0/n8cjpNdirchtewFvCoR/9MZ/PZdE+73h0Q4+KuScL0an5Z3krndBrR8fK6fTOH62y8LyeUYx3FRZePeQcwZY0V4bcnaAUEFvJ9FNop1p1Wvu0S7AWmeO5lMVknz5IcxDMvwZ8QvTdeuj2n3/cBOxvvzi0lfQ2ZHJ0/llY+P8Y+hKs5F/DTm+WOBXnQCqcva94agt49BRzU0AOdPXE8LhbF/YC+J6dYU/+pLPpYlJ+T5AzvwC3C76E07ds8dYPvw3U23h1sM9q3G+sVub++vc8haIVAohWwqanbxeQHgd01XjvaZefk5pQw1bDWuero1wobfB+uszGY3//AxpP/+pueDmdKr6BHK8zIedl+LeO6rs+qozkqv1ryj64fXpp1/XApp8LRFdUF1/XtkWqFGfmra95eclbTG8dmgHIOUSjF4+qmfm2W9TyUGNN5vWxeHueuJT00Ln1MFs2q0Go5q1GLmt0tKLA7l3ev4/0L6d6s2M5qlPezh2WzuL9Cep3fwtNNv0SPEOcuXTgmN5/robzzC3u1wgbfh+tsDOXPrBPA/6nNcNCEK+8CC1C/LUg2ivkrkkpC9qlDpc/j8tcZfHugFeQyrjVEPvgcGeQGhojrKIA1awHKvuCFj48cs2Fx6QWCWOpUIZ248vutui6V+3iDW7JmXUZXriVq4HVYu5iVggRaAArZFZmcPHn7jp75GXUNcmn3NW7wfbjOxlD+S3UC8Ve1Gg4a9KSdi53YZ+TSqvkTyInNi29YQLyftCxFoS9lKXa0U30D/aDhkByrKe1XGGEjO4pHaK2MKVTfjyHWKDq0ET4mzcC1mEFx2cAlwlVzBAR0JbWUETVxZcPFLq3QrCQOMGIjfgLR5d36yiCBJFvT3Vva4Y5sQ2JABajRwZrwWRSk3/3dscH34TobQ/mrqoRfv/5Qm62YimSt21U15Ja8AAfIieFljegs1P5R8J7RL5qE/u3Sy92gFYgzuopYX3O+PyJjJhDHZPWoZs7+yHJD4rIjyODuEWBmBdGpFdyV9BSuBoxqS+fXXFZnzfrmenaLXrXXrFYBfaFGggLNt+A/e1RNgj6ZXC1s8H24zsZgfvunKIV/6Pn2nHOlN9cLF2RXqsBBoEOjHVelUPseOTgERy93s1YAF5TXpX8AGinL0ej6DN+wKXuidTMgLrsS53V0wHBst9EKsXULjqpmZtQqZNNnDx4v+KVAu2s9qNJ5bSls8H24zsZW/PYnNewKWtBS8/WgvM6ElUkzNN7jPIEK1WuyDDmYXu4wrUCgYk0VFISqNg5YhRIVBTHdYUBcduV9tQI3h9TMH4hTHYjX4dvXaRUoB65ZibrB9+E6Gx8M1WPzNhxeUaFdl+ZEFHqt0XnIRTvUFYjRmpsGCDWrKyCTBU3zIC39AXHZlffVCujK9eUgqkFpvHFDXwFInzwH+iUrUTf4Plxn42NBI7zVN4Yy7Dk0jUfSKZnmRGTjVau3DN8PfDld0gq4X+nrB+wpWxVCPSIr9Ry6EofEZUcgky2tgJaNs0R23F0rUNr6oaJowGUdC/imoTkCT9XzgQ61q5AEwgbfh+tsfACzpj5Hrj/GNwD5/JeA2kKzmiF/n8yo0c9lUl7M40U+ifgfP2mtmL+7LSRAlIQtrcA5wYdyqfE4QTx4YM8I7to3f7rg4gOfJVYsMUcUjuiUIXHZBO4UukY9Ra0A1bTkOEwQhzdoBeRm6eKdlgbx4WEbDJM4gmr2xafnVhPnAp6zpt9G34frnL+tvjNjN9Ap6Ch8hACsFxwvnM3znFid6gcyxjUEzyGuzJpyUlsr6EdRYsSlrmPlgk5CFbnnLCCowhgWl34oeqWGR1ErVCMf/hKp9watUJ3StcojZYOcMPJi5VvaHtYkSvu7JtHr+5Cd07fVd2bszvSKsuplQSo9RzP021326+DJ2fxCa36B6dXVtMfb+AxTMcV8fIZ75FePp/OrbBrlycV8WsoGEcW49HA832pC1nh6Nd99AmkKBXU9zRoPgcn5vOdhT5F8PfHo932wzunb6jsz3gAp5/4cbxjGD2PGA/4NwzAMwzAMwzAMwzAMwzAMwzAMwzAMwzAMwzAMwzAMwzC+OJNp91QdwzB+IjZRyjCMiPG9TtpfzVvzc7GOgbB6SNYzyDhf7XX9Tdy2tUjCnu+xBzatpNAFKeGafbtV38a8lEuzHrVclK19dAVE7O0exreFF8FpFjV+1j1agbnvamdgLaU3rKCaU9QKe77HHqB8spNWIH/3vKQL5TWA5YduJtXJuOXi2NpHZj25WXqlvrd7GN8VrKfrNyVo5/koex5hJeWeHaf2SVErfD0ot+ykFSh/0dPRQ1JeIy6pJqZJn7l4tvaRWtNvWLpqb/cwviR//v1//+c//k1PdgPLI/c0DSBOJBBKx5J6+ye97ZdlV61Aj4c0d8/4GLJb5uLZ2kdqTWd8yuztHsYX5O+yScyvP/6iFrsAeVm06wgOOEeigI2/sJQirGcnsv7gORqkBGqX6WrkJFe6iW1YVXGhbYA0BN4qTlhhjcjstkS4B3OM5VuFWhejbd+DMu2tevTb1GU3Itr+qgpWhUVu87tCK5w4u4UuYZM92Sak7Q6GVs+39uGSgHi3exhfg39XpUD8pla7gJWY3fLIbbLsiYXX3YZuq2ZJQn9Kf5Pp9FnFBxe4PZ0oZFnjHLscLS/IeII1YmWJ9jQEqqI2rxdH1fH1msuntlaI7iG5sZlTNh+f3etqtKV78GXrm1O6B1YBRuMnv1HRny4Pmu9K175ruME5umVk6dn0yTZyMp2S36fpdDq0z2R7HxwnX1cYwg73ML4C/6kqgXhLZaEacX8BNQ00RyRk2ZN7IegX1klBSGWL5FjsHiWChI0QeW1VqmAsfdjIezhJQ0BpFmfC7LaCvwcinGW44j24KBcrruUctW9U9EcUlgct3DW+AVpX7LmVNhuJ1oceyLY+EKettAKxfayML8A/VCf8+l0tducCZWlT2J0xy57I6S/0C+uk39HnWCzszs0G7PXBgohWRbRc8yq0QUIIvK56Hb6AZLcV3D0QibDHJFO+BzKtqwShTkBZNbtR2V+Rwl2TG6AWwpqklTYbMa1g7I8//fe/fv3659/17K1AxFufJrPsiZoARKUlZUErYMsO9EhSc1s8ogROQe07D+EEVXDSS1JWZ7cV3D0QYNbiKd8jz7SipOIblf0VKdy1fIPtc6BpBePLgk3d8m2X0uw5Rnsb2aAlZZFWwPZRV6hQa7cjslO7464gp0dzBL9GlTy9rRJrhSzA8j2KmZYINyr7K1K61LSC8e2h7JwPXkuyJyuFsuRHWkH8SK8kQC29lcM75JQr+FRfSW7rcPdAgFmRXr5Hl1Yg9EZlf0UKdz0srdDZNurAtMIPZuTb1Y8kOnmDOMqespmZ7M3UkvxYK/CHCPdNkkCzI3yuVOssBJe30GdH5ui2AX8PBBi6QLjRU7xHKdNmNyr6o6sWzSrvbizc9WC0Qmnn8U0MukeaUH1nxiFBea1pVjVn+XarGiIeWLuX3K8VwjdJ4Zgr7PXt/AE3k+75NARs3fh6P79DLKCY0ttqFSbcAzmQ4nw3v8dgAa7Xl+5RyLT5jYr+qiMytrN2+66HoxVYUT/Nb5/RVzyMIfdIE6rvzDgozlFFYB4LezT67Pl6P3PyT2zQCtVdPmHhGpkPwTzoTdIQji5RoyeWV1xeb9AKVKrfiBpr1vf+Tq17FDJtfiPQ8icb0xd2ts7vejhaQao6IHsx3Qy6R5pQfWfGwTEP0m0YhkGYVjAMwzAMwzAMwzAMwzAMwzAMwzAMwzAMwzAMwzAMwzAMwzAM41CweRCGYaTcN83ttG+psuPpfH45nUbLOo461Ui3y9cnnhttGD8W3dCEKa4LEO2N0vjVVGAXVkeOlljJXA6MXbUCVbae2Hd5VZMO59187f9mGwI0fhxYqqxGrh6dP5JotDjGQiOrOWeV6Y3uwFRVpy9rXa4sX2UkuBwglDN20grk75ZXXilvuNfhvJuv/d9sQ4DGT2PTeqbYWuq1N59sv/bQF4byx05agXLUJSfFjVqkdDjv5mv/N9sQoHFI/P4H9oj519/0dCdIIPq0AnJJWJfVMasBFS8wosXw4s4jFzZF6NJgo+uHl2ZdP5AYCmc1qiqzuwXZ3uX7UeyHvnVFr27q12ZZzyV6ohUun+ipa7+I5Zhif1YdzbGTxMBq0PF9jSBmR4sNOjVhN1+7eZthqc6Xh4vWyzUOmT+zTgD/pzY74XZgLIMlDdtyQ+1QghdRFCOD88iFTQHRAtHlutUSMuIKmy0I8Sqw+wIbXZTrM27JRsC7zUIrhH4WXRaZCtHmSmyXYrMB3qNvRVmVeO3rxE3YzddO3kZyOViplfEt+C/VCcRf1WonHlg47ovyhH3Y4lVaAyRW6oA8E+e44OIguZVtXbGBzJNWB7DqMK+5joy4kpJ6RMXXe0hpx7qiY4qO7yiRQjaKzIQ0higBPGHzMrzwJgWylqvRadOtclN287WbN7QLZbvNcWEJX+Nw+auqhF+//lCbXZnKuse6u3MMslO5rTlcK0woq8uWC9i7NrRWUIJDMqXSLsA8eBHit4KlyfNNEuLIXJCZ8wyecIvdFKDv3O6z1LwaVr3Y0dcbbmY9i9+S3/4pSuEfev4mznn/2VwvIGOUPkxsoRXQZtDyGKGloJUeZ0T0cnxYzyVUXmk3+lZk8IS+G2QzqGC5y0nfDtQnu/na1dsUTaf1nXtU41vx25/UsAfQuM+2HUNxulZzykCtcEQV3BfXMYEW8DwB9YJP0wqIjho9nVphm1g90fWiCLE/vivJN7Gbr129VUdz3ttiletFw0ggMcnLGmiKYvkzTCsgk4U2A+oKbbH9NK2A6AyuK2wVq6hStEV3xG6+dvUGxvh+5PYDNYwCaOi3RARdWM/he+HIdUqGvA9vcSdXpBVI6LhnXxlRtVW6HWM+TSuUorMfrVDN8MWifoi32xrAbr529cZA61t/o5Eza+pz5PpjVEXjPKzwR8PVDHX9k9nS79Ua5X30SESZxruckn3WKYGy6Umk9/hJ3T5AKyCG2lEfM4L9k+iF0wX3vu1FK5AmRU6bns8vpsM/tO7ma0dvixeutOErTP9HnzTp+s6M7wO2Y3UUPkKAMJiAeFG9EbcT5NsmwR0IzoW/o0dwvjrVbR4ZaVt8gFbgUQmlJncSHfSp7EUrwGPgeeA4od187eYteqV1v4806frOjO/F9Ipy8mXfsMKjGfoGLzvLhfEZZlTqySYmZ/OLD661Hs+7t0wfT+dXg+O+LROq3Q/9LhDYzdd23k6n1/Oz6WYlkiZd35nxzZiHEtJ4O5GCpVKZN9QewG6+dvVmGBuY8VwEYz+gGfJyczGdXnBfzcB6yG6+dvVmGMZHcnSDeVRCPXg8wG6+dvVmGIZhGIZhGIZhGIZhGIZhGIZhGIZhGIZhGIZhGF+byXTAPBnDMH4QNjvKMIyI8T2v4Nc0q3lrNjWW+YnRNRXOV271lW6u3NoF64eBw/PpZn7Nhq9DvOTCNpCmpach3zqNcaQTFpbRKhZD7TznfqGHa76oae5d3PL7CbvF4gzL44C7eNLcCeZfEa/Rmgq533Isdk4M4T5ZX3OI330mhiOORTmBhsXiEMByPE2zqPGz3qQV3DZSEI/eFdpPVNEIGzWI8L20Avm750VR+JlGLEYvNdYvcukx1M4zphRSrYCVbuoa+z+5xVzT+zl2iQXWjW7WFDqWVVm7pTBOcPZS1ywSGou233IsdkwMZvRIFmomhvndX2IoSSzKCTQ0FgcA9mh4dX0KfX0L2OGlvbdcB0if562z0vfSCiQM8wrrOJFgcOq9is71ezEMtfPw6laurqAKfIQaGauF5H6enWJx65bg5dC1NKQcoGvqQSPxklwFv+VY7BYNcCHFi54N9rvHxAB5LEoJNDgW782ff//f//mPf9OT3cAKwUNWH0OVYug6P0gf3S5uK76XViBhQMKyYGDZOr+Bi9uHYqidwgVU+2VBAnnzy+R+np1iEaA6sN4R2xTror3YeYpfb8FvORY7RoOrJwtUTtgeDPS7z8QoxCIQEmhwLN6Xv8smMb/++Ita7AJFvFlsrgKMKWWcUkBCuPyLLHPpWgsvWpei9Mk3llD8eoFrSUkwhQ4BK7qH0wphQcXF++wlhfALa9cSx1wRZGpcgEc8cXYLLTiRbLMTrkwPWbmQCo1wGTbZoHw81E7gjTWQM0PCCUjSgUm03R0ZPKFKB6rQDzAf0ftmWdjgt4vh0ZjyWrsQJ7YndniEDt4SiwifQLvFYu/8uyoF4je12gUofrfuciexUsBnTGo6Ba3Q3JFUHp9zPkOmgewWu1cgV8+o7Z4jLUVvYDfHpp4eVeMZm9gSxeLygsI6gcy3F4vfA7iZFAUp/EBziuT47F5Wt2Wb9Q1pvHPoL402mVbNksTg1ItCD1CkQQXR09NzDrVjbikKU9FFaiMg1VdF5VZgqzsy2HjG6/djcqWEwF4AUiPu99vJttGI8+P2j9DFW2IRCAm0Wyz2zn+qSiDeUlmoRroY82N35kuUAqAkkodGlnEahRsOpCBgF3fUOEiV+B2ncQ1SExrEt95cUlJSL31koBfeQy2UVyJFWmTZHFF1hTFyBEcG+TO/sAf0zoYKGT0nac2hdgT2f0PtPdMKHInn4YmzxR0FqHGvFCgaWoFz+4P0+u1m22jE+XHrR+jkLbHwRAm0Wyz2zz9UJ/z6XS1254L7TbsqPS2lUNYKLKUkvLArhIQKQMiIlJ5ohVHIoSeGkhKhQlNItzpD9dVIMt8XbGGR7ygZPyKqifwM+qhDgciE6pg851A73rbihTNiphWq0wuUVYNbrYPvKISOTAY9UKuZtO3WXMvq8dvHltFoaYVt/HbzllgoSQLtFot34E///a9fv/75dz17K5D+9qdJAkoh2+2lrBWQFi+SdegnBwIcyjWpcKGrLJS4mpS+88HT+nT8XuDW4XGEXCtwtszz5wZQBQn5i/QcaZShdojTfMogY95kw1ARpVRldzL0jgI62UKVjatJqtTx7lDB6/bby3bRSPPjtn67eUsshDSBdovF1wdbwxU2oIZS8JV8pUMr0AmsUfFo167THAchO+K+2lB/iLRCaKF9KKVb70Mr4Dl9hQcb85DfgXbIghmp3kKch+2YPTQWDEZJyTtmIBy+Aoi+KKotdPrtZ6toEHF+3NZvN2+JBZMl0G6xOACWpcZQ0vJ3lLUCijIkDPRIWy342jdDlS8q4VJFpFoBd/zATzkxuHVeMdmHVkCftN+5jUoVVKWG2kUU7wr9OkwrbHNHZIL4JeDWvvRDDiCtsCG2XWz74HF+3NZvN2+JBcgTaLdYfFVGvtqDrpNWtaeoFMpaAWa5lNXCqyt0x4slN0wgvtpth6Yy9zyioPNqwTXGoIVDd2VSX94bk0WzCjrKg1uHPhGO9j60Apf4utsbxgBxvXOoXSC667HrAOVhDAPTaPAd+QWG+jBAG1rvjVTgDNAf2062fPAkP27pt4e3xKKUQFvFIhW/vrPPAU/brGTobLsBD6WQIPkj0QrN6+P8RgbC+p5DUpZgzaFT+OwNRcy6ns8fcK1+b+QA1vX9/IFjIKEeI83X9e38Af6Hd/UPB5q9mK8h8ZQcd/N7DFGAYtuLVuBnp8fjXl1JjeF2nnBX/p78rCOeVRYHMPCO/FIiYMdb9TavOuJZb9kb2262e/A0P27nt483xKKUQNvEIhW/vrNP4hxVBOaxvfkjavgp8rSJVpjrMKRF4v/Eh/sSnpA3vibiqScT1RxP2CZRQiWuoRiI14d2rPYBXmGhE4UY3YiGbNb3XB7vRytQoY7SlniMBGaonRLd9dQl7+t2xcqQO6JSlyDWo7m+k5VvP/fGto9tHjzVCtv57WfXWHQk0BaxSMWv7+wTodrPVsnpibOMYRjfCNMKhmHsCdMKhmGkmFYwDMMwDMMwDMMwDMMwDMMwDMMwDMMwDMMwDMMwDOMdsN1nDcNI2Xl2lGEY35G+3Wd5hZl0zRljR3i5Ekeyx9jRXbrgTfcOqKC9CWx5L1RP2LI2orV7bUZ/HDY5G4dN/+6zphX2R5dWOMNiJm6PBaJzB1SmvQlseS9UT7RlbQQWEUt3r03oj8MmZ+PA2bT7rGmFvUG5M6khCMi0yZ5+XTugKpT1daEeZGxeG7O4WayD18or1BVUC2WbPigb4rDB2fhUPmD3WdMKe6OoFZD+afleU7VcjbxYV7rtHRbS1CV3/SawAbyt5G12bFkb4XevjemPwyZn4xP5kN1ng1aYQRxxCpZBU+S7tRJYuZlxm8yS3/kIZRtYHB05Ly9upeIP2G82gDsVdp4tPiAVtWE1fLLnUnnA4xRgrXAyncZ3Rs72a1UyWBrSdxhgZc8sy2K9xnQT2AjUO6KX2bllbQTeVR7tDXHYFEXj8/iY3WcTrUCZCbuwnqI5qQUW2ya7tbLcZpvM8lXoHTvSFUHRr3mBrgxdGPQD9psNcBTa5VvxAbu0Qv/jFEFqKGu9DjWFx5Obun5EEjJI8KA3yE+qNEgLI5x4E9hA2AuVoUuKW9ZGlHev3RCHjVE0Po2P2X021QquUIH4cbsSfn2xIVCOam0yi18n9pSPXEP0iUSSDRTe++83GyjvPNv1gGWt0Pc4ZV5J76Egv4QmkVJeP/4IKw4SHxhCcU9ZrrVxT74JrAfqOCiFji1rI+BS3L12Qxw2R9H4ND5k99lUK7gqBYp2KIPCbq1wCnmOBBUt0NgvSZEr45w1KrkulxGUV/rK3Pei9IDdWqHncTaC7IsMi6p488LF7gRv4IYMyHIhEAo9K4hRvUg3gVXSfsPuLWsjunav3RCHTVE0PpOP2H22rBXcvggo1rN8ADkLxY9WNjdkI98P4fmMr+ClB3wfrYBtCFFZgO7xoWPDAfKN2lfQkKQgtammoOGgShdpG7r/071QkaI9W9ZG4Enz7okNcdjgbHwnirvPbtYKWas0VRQQYtI0G7JRIZhPoPSA76MV0EO3oF+kuPPMHTx0S/Tp+5pSaxfT0iawTLoXKt5aRmfEkPhZfa8/DpucjW8FvkKr0dOvFVD1z4p1OIUWBNVqURBtyEYIplWN/XBKD8h5hm2Ai+aGx9kI6ghoLcAztAMDBUqqERqjexdTNAd8yRx9FERFoyMFe3sbCdw30wr9cdjkbBw+G3af7dcKpd1aIWXaaec3md2UjT5iv9lAx/aexQeEQcvFkc96mx6nzInrloUSXPJDoujXJMe4AdYQSPHuXUzReaB5HFGTzFnYCzVQ1gr9u9f2x2GTc57CX29zVWMDEPXu3Wc3aQU2pbu1chGWbTK7MRu9/36zARR1pYxSfkAkQPM0nz9RRYpMu2sFzrpLGZfsN4zl8cvL+o5HPKh6RfpRc4A7gFu7mJY2gcV9Y/hCT1Er8Pfont1re+Ow0TlN4b4z42vSu/vsZq1Acprt1kq0Npkdko3ee7/ZAGS6sL1nxwOO0Iigp7s7emML4uhWn3AV54kjVssUflSL793FtLUJLCpnCWLtKNcVNu5eu2En1X7nNIX7zoyvC+X9HnE2DOPnYVrBMAzDMAzDMAzDMAzDMAzDMAzDMAzDMAzDMAzDMAzDMAzDMIxDweZBGIaRct80t8k+BS2u2ktrfCavn7KE6Iap0obxXTjh9TuEzsUwbttrt30qh6UVqCr2xL471jLrcN/R20ffzvh+YM2OGhWB0fkjvfQyJAp+bZEvwWFpBfJ3yyu5dOzI2OG+o7ePvp3x7Ri0kCou+lqrah2WVqCcdMmLIvESrm063Hf09tG3M74Uv/+BPWL+9Tc93Ql61Ru1wmhF18QZ4qyu6/H4rqaseXflFv0rWo7J8qw6mmO3NV2WcDqvl83L41y6MWZ0QViHdMqXM6Prh5dmXT+QIAaOrrA+bH2LDRT3phX6lhe9uqlfm2U9l7XnRCtcPmGpRb/EZeERB3A0ne7SU7Ojt4++nfFZ/Jl1Avg/tdkJrMhJFcM+Fige4o0RkDsCuuJg0ZJKluZKOi54F2PKgUAW/XuE7iAt4vemwYKnEhcoIY/Lsme6YKGwL62AdZbLFSG3kiTg3WrxiPIwQPdWyR9xGKSNd6l77ejto29nfBb/pTqB+Kta7YTsrXzf/QXilvuXUGGIly3VrDrCXlGck4uWyDLNi69koCnyJPWIMWkGXv6cyli3JwJZcZt1RHZPqiqwIrosCh+tTA/9sLe6QsfyomOKhN96W54Aj7iSasOEYiBKIHvEgZhWMN6Dv6pK+PXrD7XZFd3OVLeUzkFWgMxHG0g6KwaLiKNiULRElgn7lWGfId9VhazPGyj5CgLpEr52RJeFVg3KcrQqqJax9uG/f78CVijPd1qLHxEbtfFi1OkjDsW0gvEu/PZPUQr/0PM3cc5r+xf0Aop3aQ2EDUESBYD10JHVi5bIMuIbQFeEZd2pTcLbk2ALW+wAQQHI3inIcCnUXodGCdF7f62AGkS8uSuIH5EyjOSY9BE3g8eOGPrFd0dvH3074wvw25/UsAew74HfPtCBhoNWr0dUqMun6lQBUA6F0BQtkWVCaeP0gIC+A9YRlAHXY2R73eEel80TqNaO7aWCRnl/rYBIqNHTqRW2L1A/uPD+4NsZ3wdSAK2qsPQOBriXPVEAyBWwLVqmWQaXhJxNdQ/drfCWbowGhe4yg7pCa/so5MKPrCsgEoPrCttnnQ/Oph98O+PbgAa83wtVwRinOy2weVc17lpIFACaHsjORcs0yxzFnYShG1E6EoMmQKVEdqKLIUunNj5CK5QiYVrB+BnMmvoc3f28Cxx/f4tANoi/wVNmRNcCrG+4KTDi7cw4sxYtsyyDfv0V1xZ4IzX9okAg4KhTAzWUJ8l/x0+uAUN+m4VEEB0Ue9MK0GChH9PDOzo+iV44XXAn6R61wvciTcK+M+MQQCeeo/URAj2NST8TOgZfJHd4nK+iZSvLXOimlITmOIZqEbH2qU51G0PGfY84937XcaXjraASUtzwNokEelxMK3SQJmHfmXEoTK+o4L50Q4kGILnj+Gx+EXoJypZFTi7mrSFzx+1u/EkpqOnV1XTfBc/x3I2TajOezq+mXZvAG440CfvOjINhHsrAIcRlpqdoaRjGgTKredrkUEwrGIaRYlrBMAzDMAzDMAzDMAzDMAzDMAzDMAzDMAzDMAzDMAzDMAzDMAzDMAzDMIwtqKr/B6Xf2/Z3lXaeAAAAAElFTkSuQmCC)"
      ],
      "metadata": {
        "id": "uPJuiB3VWH85"
      }
    },
    {
      "metadata": {
        "dc": {
          "key": "10"
        },
        "id": "-rBQASsaQuxG"
      },
      "cell_type": "markdown",
      "source": [
        "### **Inspecting the structure, numerical summary, and specific rows of the dataset.**\n",
        "\n"
      ]
    },
    {
      "metadata": {
        "dc": {
          "key": "10"
        },
        "tags": [
          "sample_code"
        ],
        "trusted": true,
        "id": "ye9CCvQnQuxH",
        "colab": {
          "base_uri": "https://localhost:8080/",
          "height": 1000
        },
        "outputId": "67e2ad6e-7ac4-4a33-a205-4e876bb37c6a"
      },
      "cell_type": "code",
      "source": [
        "# Print summary statistics\n",
        "cc_apps_description = cc_apps.describe()\n",
        "print(cc_apps_description)\n",
        "\n",
        "print('\\n')\n",
        "\n",
        "# Print DataFrame information\n",
        "cc_apps_info = cc_apps.info()\n",
        "print(cc_apps_info)\n",
        "\n",
        "print('\\n')\n",
        "\n",
        "# Inspect missing values in the dataset\n",
        "cc_apps.tail(17)"
      ],
      "execution_count": null,
      "outputs": [
        {
          "output_type": "stream",
          "name": "stdout",
          "text": [
            "               2           7          10             14\n",
            "count  690.000000  690.000000  690.00000     690.000000\n",
            "mean     4.758725    2.223406    2.40000    1017.385507\n",
            "std      4.978163    3.346513    4.86294    5210.102598\n",
            "min      0.000000    0.000000    0.00000       0.000000\n",
            "25%      1.000000    0.165000    0.00000       0.000000\n",
            "50%      2.750000    1.000000    0.00000       5.000000\n",
            "75%      7.207500    2.625000    3.00000     395.500000\n",
            "max     28.000000   28.500000   67.00000  100000.000000\n",
            "\n",
            "\n",
            "<class 'pandas.core.frame.DataFrame'>\n",
            "RangeIndex: 690 entries, 0 to 689\n",
            "Data columns (total 16 columns):\n",
            " #   Column  Non-Null Count  Dtype  \n",
            "---  ------  --------------  -----  \n",
            " 0   0       690 non-null    object \n",
            " 1   1       690 non-null    object \n",
            " 2   2       690 non-null    float64\n",
            " 3   3       690 non-null    object \n",
            " 4   4       690 non-null    object \n",
            " 5   5       690 non-null    object \n",
            " 6   6       690 non-null    object \n",
            " 7   7       690 non-null    float64\n",
            " 8   8       690 non-null    object \n",
            " 9   9       690 non-null    object \n",
            " 10  10      690 non-null    int64  \n",
            " 11  11      690 non-null    object \n",
            " 12  12      690 non-null    object \n",
            " 13  13      690 non-null    object \n",
            " 14  14      690 non-null    int64  \n",
            " 15  15      690 non-null    object \n",
            "dtypes: float64(2), int64(2), object(12)\n",
            "memory usage: 86.4+ KB\n",
            "None\n",
            "\n",
            "\n"
          ]
        },
        {
          "output_type": "execute_result",
          "data": {
            "text/plain": [
              "    0      1       2  3  4   5   6      7  8  9   10 11 12     13   14 15\n",
              "673  ?  29.50   2.000  y  p   e   h  2.000  f  f   0  f  g  00256   17  -\n",
              "674  a  37.33   2.500  u  g   i   h  0.210  f  f   0  f  g  00260  246  -\n",
              "675  a  41.58   1.040  u  g  aa   v  0.665  f  f   0  f  g  00240  237  -\n",
              "676  a  30.58  10.665  u  g   q   h  0.085  f  t  12  t  g  00129    3  -\n",
              "677  b  19.42   7.250  u  g   m   v  0.040  f  t   1  f  g  00100    1  -\n",
              "678  a  17.92  10.210  u  g  ff  ff  0.000  f  f   0  f  g  00000   50  -\n",
              "679  a  20.08   1.250  u  g   c   v  0.000  f  f   0  f  g  00000    0  -\n",
              "680  b  19.50   0.290  u  g   k   v  0.290  f  f   0  f  g  00280  364  -\n",
              "681  b  27.83   1.000  y  p   d   h  3.000  f  f   0  f  g  00176  537  -\n",
              "682  b  17.08   3.290  u  g   i   v  0.335  f  f   0  t  g  00140    2  -\n",
              "683  b  36.42   0.750  y  p   d   v  0.585  f  f   0  f  g  00240    3  -\n",
              "684  b  40.58   3.290  u  g   m   v  3.500  f  f   0  t  s  00400    0  -\n",
              "685  b  21.08  10.085  y  p   e   h  1.250  f  f   0  f  g  00260    0  -\n",
              "686  a  22.67   0.750  u  g   c   v  2.000  f  t   2  t  g  00200  394  -\n",
              "687  a  25.25  13.500  y  p  ff  ff  2.000  f  t   1  t  g  00200    1  -\n",
              "688  b  17.92   0.205  u  g  aa   v  0.040  f  f   0  f  g  00280  750  -\n",
              "689  b  35.00   3.375  u  g   c   h  8.290  f  f   0  t  g  00000    0  -"
            ],
            "text/html": [
              "\n",
              "  <div id=\"df-a7bdf06e-6b9e-481b-ae36-bcca2a876295\" class=\"colab-df-container\">\n",
              "    <div>\n",
              "<style scoped>\n",
              "    .dataframe tbody tr th:only-of-type {\n",
              "        vertical-align: middle;\n",
              "    }\n",
              "\n",
              "    .dataframe tbody tr th {\n",
              "        vertical-align: top;\n",
              "    }\n",
              "\n",
              "    .dataframe thead th {\n",
              "        text-align: right;\n",
              "    }\n",
              "</style>\n",
              "<table border=\"1\" class=\"dataframe\">\n",
              "  <thead>\n",
              "    <tr style=\"text-align: right;\">\n",
              "      <th></th>\n",
              "      <th>0</th>\n",
              "      <th>1</th>\n",
              "      <th>2</th>\n",
              "      <th>3</th>\n",
              "      <th>4</th>\n",
              "      <th>5</th>\n",
              "      <th>6</th>\n",
              "      <th>7</th>\n",
              "      <th>8</th>\n",
              "      <th>9</th>\n",
              "      <th>10</th>\n",
              "      <th>11</th>\n",
              "      <th>12</th>\n",
              "      <th>13</th>\n",
              "      <th>14</th>\n",
              "      <th>15</th>\n",
              "    </tr>\n",
              "  </thead>\n",
              "  <tbody>\n",
              "    <tr>\n",
              "      <th>673</th>\n",
              "      <td>?</td>\n",
              "      <td>29.50</td>\n",
              "      <td>2.000</td>\n",
              "      <td>y</td>\n",
              "      <td>p</td>\n",
              "      <td>e</td>\n",
              "      <td>h</td>\n",
              "      <td>2.000</td>\n",
              "      <td>f</td>\n",
              "      <td>f</td>\n",
              "      <td>0</td>\n",
              "      <td>f</td>\n",
              "      <td>g</td>\n",
              "      <td>00256</td>\n",
              "      <td>17</td>\n",
              "      <td>-</td>\n",
              "    </tr>\n",
              "    <tr>\n",
              "      <th>674</th>\n",
              "      <td>a</td>\n",
              "      <td>37.33</td>\n",
              "      <td>2.500</td>\n",
              "      <td>u</td>\n",
              "      <td>g</td>\n",
              "      <td>i</td>\n",
              "      <td>h</td>\n",
              "      <td>0.210</td>\n",
              "      <td>f</td>\n",
              "      <td>f</td>\n",
              "      <td>0</td>\n",
              "      <td>f</td>\n",
              "      <td>g</td>\n",
              "      <td>00260</td>\n",
              "      <td>246</td>\n",
              "      <td>-</td>\n",
              "    </tr>\n",
              "    <tr>\n",
              "      <th>675</th>\n",
              "      <td>a</td>\n",
              "      <td>41.58</td>\n",
              "      <td>1.040</td>\n",
              "      <td>u</td>\n",
              "      <td>g</td>\n",
              "      <td>aa</td>\n",
              "      <td>v</td>\n",
              "      <td>0.665</td>\n",
              "      <td>f</td>\n",
              "      <td>f</td>\n",
              "      <td>0</td>\n",
              "      <td>f</td>\n",
              "      <td>g</td>\n",
              "      <td>00240</td>\n",
              "      <td>237</td>\n",
              "      <td>-</td>\n",
              "    </tr>\n",
              "    <tr>\n",
              "      <th>676</th>\n",
              "      <td>a</td>\n",
              "      <td>30.58</td>\n",
              "      <td>10.665</td>\n",
              "      <td>u</td>\n",
              "      <td>g</td>\n",
              "      <td>q</td>\n",
              "      <td>h</td>\n",
              "      <td>0.085</td>\n",
              "      <td>f</td>\n",
              "      <td>t</td>\n",
              "      <td>12</td>\n",
              "      <td>t</td>\n",
              "      <td>g</td>\n",
              "      <td>00129</td>\n",
              "      <td>3</td>\n",
              "      <td>-</td>\n",
              "    </tr>\n",
              "    <tr>\n",
              "      <th>677</th>\n",
              "      <td>b</td>\n",
              "      <td>19.42</td>\n",
              "      <td>7.250</td>\n",
              "      <td>u</td>\n",
              "      <td>g</td>\n",
              "      <td>m</td>\n",
              "      <td>v</td>\n",
              "      <td>0.040</td>\n",
              "      <td>f</td>\n",
              "      <td>t</td>\n",
              "      <td>1</td>\n",
              "      <td>f</td>\n",
              "      <td>g</td>\n",
              "      <td>00100</td>\n",
              "      <td>1</td>\n",
              "      <td>-</td>\n",
              "    </tr>\n",
              "    <tr>\n",
              "      <th>678</th>\n",
              "      <td>a</td>\n",
              "      <td>17.92</td>\n",
              "      <td>10.210</td>\n",
              "      <td>u</td>\n",
              "      <td>g</td>\n",
              "      <td>ff</td>\n",
              "      <td>ff</td>\n",
              "      <td>0.000</td>\n",
              "      <td>f</td>\n",
              "      <td>f</td>\n",
              "      <td>0</td>\n",
              "      <td>f</td>\n",
              "      <td>g</td>\n",
              "      <td>00000</td>\n",
              "      <td>50</td>\n",
              "      <td>-</td>\n",
              "    </tr>\n",
              "    <tr>\n",
              "      <th>679</th>\n",
              "      <td>a</td>\n",
              "      <td>20.08</td>\n",
              "      <td>1.250</td>\n",
              "      <td>u</td>\n",
              "      <td>g</td>\n",
              "      <td>c</td>\n",
              "      <td>v</td>\n",
              "      <td>0.000</td>\n",
              "      <td>f</td>\n",
              "      <td>f</td>\n",
              "      <td>0</td>\n",
              "      <td>f</td>\n",
              "      <td>g</td>\n",
              "      <td>00000</td>\n",
              "      <td>0</td>\n",
              "      <td>-</td>\n",
              "    </tr>\n",
              "    <tr>\n",
              "      <th>680</th>\n",
              "      <td>b</td>\n",
              "      <td>19.50</td>\n",
              "      <td>0.290</td>\n",
              "      <td>u</td>\n",
              "      <td>g</td>\n",
              "      <td>k</td>\n",
              "      <td>v</td>\n",
              "      <td>0.290</td>\n",
              "      <td>f</td>\n",
              "      <td>f</td>\n",
              "      <td>0</td>\n",
              "      <td>f</td>\n",
              "      <td>g</td>\n",
              "      <td>00280</td>\n",
              "      <td>364</td>\n",
              "      <td>-</td>\n",
              "    </tr>\n",
              "    <tr>\n",
              "      <th>681</th>\n",
              "      <td>b</td>\n",
              "      <td>27.83</td>\n",
              "      <td>1.000</td>\n",
              "      <td>y</td>\n",
              "      <td>p</td>\n",
              "      <td>d</td>\n",
              "      <td>h</td>\n",
              "      <td>3.000</td>\n",
              "      <td>f</td>\n",
              "      <td>f</td>\n",
              "      <td>0</td>\n",
              "      <td>f</td>\n",
              "      <td>g</td>\n",
              "      <td>00176</td>\n",
              "      <td>537</td>\n",
              "      <td>-</td>\n",
              "    </tr>\n",
              "    <tr>\n",
              "      <th>682</th>\n",
              "      <td>b</td>\n",
              "      <td>17.08</td>\n",
              "      <td>3.290</td>\n",
              "      <td>u</td>\n",
              "      <td>g</td>\n",
              "      <td>i</td>\n",
              "      <td>v</td>\n",
              "      <td>0.335</td>\n",
              "      <td>f</td>\n",
              "      <td>f</td>\n",
              "      <td>0</td>\n",
              "      <td>t</td>\n",
              "      <td>g</td>\n",
              "      <td>00140</td>\n",
              "      <td>2</td>\n",
              "      <td>-</td>\n",
              "    </tr>\n",
              "    <tr>\n",
              "      <th>683</th>\n",
              "      <td>b</td>\n",
              "      <td>36.42</td>\n",
              "      <td>0.750</td>\n",
              "      <td>y</td>\n",
              "      <td>p</td>\n",
              "      <td>d</td>\n",
              "      <td>v</td>\n",
              "      <td>0.585</td>\n",
              "      <td>f</td>\n",
              "      <td>f</td>\n",
              "      <td>0</td>\n",
              "      <td>f</td>\n",
              "      <td>g</td>\n",
              "      <td>00240</td>\n",
              "      <td>3</td>\n",
              "      <td>-</td>\n",
              "    </tr>\n",
              "    <tr>\n",
              "      <th>684</th>\n",
              "      <td>b</td>\n",
              "      <td>40.58</td>\n",
              "      <td>3.290</td>\n",
              "      <td>u</td>\n",
              "      <td>g</td>\n",
              "      <td>m</td>\n",
              "      <td>v</td>\n",
              "      <td>3.500</td>\n",
              "      <td>f</td>\n",
              "      <td>f</td>\n",
              "      <td>0</td>\n",
              "      <td>t</td>\n",
              "      <td>s</td>\n",
              "      <td>00400</td>\n",
              "      <td>0</td>\n",
              "      <td>-</td>\n",
              "    </tr>\n",
              "    <tr>\n",
              "      <th>685</th>\n",
              "      <td>b</td>\n",
              "      <td>21.08</td>\n",
              "      <td>10.085</td>\n",
              "      <td>y</td>\n",
              "      <td>p</td>\n",
              "      <td>e</td>\n",
              "      <td>h</td>\n",
              "      <td>1.250</td>\n",
              "      <td>f</td>\n",
              "      <td>f</td>\n",
              "      <td>0</td>\n",
              "      <td>f</td>\n",
              "      <td>g</td>\n",
              "      <td>00260</td>\n",
              "      <td>0</td>\n",
              "      <td>-</td>\n",
              "    </tr>\n",
              "    <tr>\n",
              "      <th>686</th>\n",
              "      <td>a</td>\n",
              "      <td>22.67</td>\n",
              "      <td>0.750</td>\n",
              "      <td>u</td>\n",
              "      <td>g</td>\n",
              "      <td>c</td>\n",
              "      <td>v</td>\n",
              "      <td>2.000</td>\n",
              "      <td>f</td>\n",
              "      <td>t</td>\n",
              "      <td>2</td>\n",
              "      <td>t</td>\n",
              "      <td>g</td>\n",
              "      <td>00200</td>\n",
              "      <td>394</td>\n",
              "      <td>-</td>\n",
              "    </tr>\n",
              "    <tr>\n",
              "      <th>687</th>\n",
              "      <td>a</td>\n",
              "      <td>25.25</td>\n",
              "      <td>13.500</td>\n",
              "      <td>y</td>\n",
              "      <td>p</td>\n",
              "      <td>ff</td>\n",
              "      <td>ff</td>\n",
              "      <td>2.000</td>\n",
              "      <td>f</td>\n",
              "      <td>t</td>\n",
              "      <td>1</td>\n",
              "      <td>t</td>\n",
              "      <td>g</td>\n",
              "      <td>00200</td>\n",
              "      <td>1</td>\n",
              "      <td>-</td>\n",
              "    </tr>\n",
              "    <tr>\n",
              "      <th>688</th>\n",
              "      <td>b</td>\n",
              "      <td>17.92</td>\n",
              "      <td>0.205</td>\n",
              "      <td>u</td>\n",
              "      <td>g</td>\n",
              "      <td>aa</td>\n",
              "      <td>v</td>\n",
              "      <td>0.040</td>\n",
              "      <td>f</td>\n",
              "      <td>f</td>\n",
              "      <td>0</td>\n",
              "      <td>f</td>\n",
              "      <td>g</td>\n",
              "      <td>00280</td>\n",
              "      <td>750</td>\n",
              "      <td>-</td>\n",
              "    </tr>\n",
              "    <tr>\n",
              "      <th>689</th>\n",
              "      <td>b</td>\n",
              "      <td>35.00</td>\n",
              "      <td>3.375</td>\n",
              "      <td>u</td>\n",
              "      <td>g</td>\n",
              "      <td>c</td>\n",
              "      <td>h</td>\n",
              "      <td>8.290</td>\n",
              "      <td>f</td>\n",
              "      <td>f</td>\n",
              "      <td>0</td>\n",
              "      <td>t</td>\n",
              "      <td>g</td>\n",
              "      <td>00000</td>\n",
              "      <td>0</td>\n",
              "      <td>-</td>\n",
              "    </tr>\n",
              "  </tbody>\n",
              "</table>\n",
              "</div>\n",
              "    <div class=\"colab-df-buttons\">\n",
              "\n",
              "  <div class=\"colab-df-container\">\n",
              "    <button class=\"colab-df-convert\" onclick=\"convertToInteractive('df-a7bdf06e-6b9e-481b-ae36-bcca2a876295')\"\n",
              "            title=\"Convert this dataframe to an interactive table.\"\n",
              "            style=\"display:none;\">\n",
              "\n",
              "  <svg xmlns=\"http://www.w3.org/2000/svg\" height=\"24px\" viewBox=\"0 -960 960 960\">\n",
              "    <path d=\"M120-120v-720h720v720H120Zm60-500h600v-160H180v160Zm220 220h160v-160H400v160Zm0 220h160v-160H400v160ZM180-400h160v-160H180v160Zm440 0h160v-160H620v160ZM180-180h160v-160H180v160Zm440 0h160v-160H620v160Z\"/>\n",
              "  </svg>\n",
              "    </button>\n",
              "\n",
              "  <style>\n",
              "    .colab-df-container {\n",
              "      display:flex;\n",
              "      gap: 12px;\n",
              "    }\n",
              "\n",
              "    .colab-df-convert {\n",
              "      background-color: #E8F0FE;\n",
              "      border: none;\n",
              "      border-radius: 50%;\n",
              "      cursor: pointer;\n",
              "      display: none;\n",
              "      fill: #1967D2;\n",
              "      height: 32px;\n",
              "      padding: 0 0 0 0;\n",
              "      width: 32px;\n",
              "    }\n",
              "\n",
              "    .colab-df-convert:hover {\n",
              "      background-color: #E2EBFA;\n",
              "      box-shadow: 0px 1px 2px rgba(60, 64, 67, 0.3), 0px 1px 3px 1px rgba(60, 64, 67, 0.15);\n",
              "      fill: #174EA6;\n",
              "    }\n",
              "\n",
              "    .colab-df-buttons div {\n",
              "      margin-bottom: 4px;\n",
              "    }\n",
              "\n",
              "    [theme=dark] .colab-df-convert {\n",
              "      background-color: #3B4455;\n",
              "      fill: #D2E3FC;\n",
              "    }\n",
              "\n",
              "    [theme=dark] .colab-df-convert:hover {\n",
              "      background-color: #434B5C;\n",
              "      box-shadow: 0px 1px 3px 1px rgba(0, 0, 0, 0.15);\n",
              "      filter: drop-shadow(0px 1px 2px rgba(0, 0, 0, 0.3));\n",
              "      fill: #FFFFFF;\n",
              "    }\n",
              "  </style>\n",
              "\n",
              "    <script>\n",
              "      const buttonEl =\n",
              "        document.querySelector('#df-a7bdf06e-6b9e-481b-ae36-bcca2a876295 button.colab-df-convert');\n",
              "      buttonEl.style.display =\n",
              "        google.colab.kernel.accessAllowed ? 'block' : 'none';\n",
              "\n",
              "      async function convertToInteractive(key) {\n",
              "        const element = document.querySelector('#df-a7bdf06e-6b9e-481b-ae36-bcca2a876295');\n",
              "        const dataTable =\n",
              "          await google.colab.kernel.invokeFunction('convertToInteractive',\n",
              "                                                    [key], {});\n",
              "        if (!dataTable) return;\n",
              "\n",
              "        const docLinkHtml = 'Like what you see? Visit the ' +\n",
              "          '<a target=\"_blank\" href=https://colab.research.google.com/notebooks/data_table.ipynb>data table notebook</a>'\n",
              "          + ' to learn more about interactive tables.';\n",
              "        element.innerHTML = '';\n",
              "        dataTable['output_type'] = 'display_data';\n",
              "        await google.colab.output.renderOutput(dataTable, element);\n",
              "        const docLink = document.createElement('div');\n",
              "        docLink.innerHTML = docLinkHtml;\n",
              "        element.appendChild(docLink);\n",
              "      }\n",
              "    </script>\n",
              "  </div>\n",
              "\n",
              "\n",
              "<div id=\"df-963a0aec-62de-47aa-beac-882a338f936d\">\n",
              "  <button class=\"colab-df-quickchart\" onclick=\"quickchart('df-963a0aec-62de-47aa-beac-882a338f936d')\"\n",
              "            title=\"Suggest charts\"\n",
              "            style=\"display:none;\">\n",
              "\n",
              "<svg xmlns=\"http://www.w3.org/2000/svg\" height=\"24px\"viewBox=\"0 0 24 24\"\n",
              "     width=\"24px\">\n",
              "    <g>\n",
              "        <path d=\"M19 3H5c-1.1 0-2 .9-2 2v14c0 1.1.9 2 2 2h14c1.1 0 2-.9 2-2V5c0-1.1-.9-2-2-2zM9 17H7v-7h2v7zm4 0h-2V7h2v10zm4 0h-2v-4h2v4z\"/>\n",
              "    </g>\n",
              "</svg>\n",
              "  </button>\n",
              "\n",
              "<style>\n",
              "  .colab-df-quickchart {\n",
              "      --bg-color: #E8F0FE;\n",
              "      --fill-color: #1967D2;\n",
              "      --hover-bg-color: #E2EBFA;\n",
              "      --hover-fill-color: #174EA6;\n",
              "      --disabled-fill-color: #AAA;\n",
              "      --disabled-bg-color: #DDD;\n",
              "  }\n",
              "\n",
              "  [theme=dark] .colab-df-quickchart {\n",
              "      --bg-color: #3B4455;\n",
              "      --fill-color: #D2E3FC;\n",
              "      --hover-bg-color: #434B5C;\n",
              "      --hover-fill-color: #FFFFFF;\n",
              "      --disabled-bg-color: #3B4455;\n",
              "      --disabled-fill-color: #666;\n",
              "  }\n",
              "\n",
              "  .colab-df-quickchart {\n",
              "    background-color: var(--bg-color);\n",
              "    border: none;\n",
              "    border-radius: 50%;\n",
              "    cursor: pointer;\n",
              "    display: none;\n",
              "    fill: var(--fill-color);\n",
              "    height: 32px;\n",
              "    padding: 0;\n",
              "    width: 32px;\n",
              "  }\n",
              "\n",
              "  .colab-df-quickchart:hover {\n",
              "    background-color: var(--hover-bg-color);\n",
              "    box-shadow: 0 1px 2px rgba(60, 64, 67, 0.3), 0 1px 3px 1px rgba(60, 64, 67, 0.15);\n",
              "    fill: var(--button-hover-fill-color);\n",
              "  }\n",
              "\n",
              "  .colab-df-quickchart-complete:disabled,\n",
              "  .colab-df-quickchart-complete:disabled:hover {\n",
              "    background-color: var(--disabled-bg-color);\n",
              "    fill: var(--disabled-fill-color);\n",
              "    box-shadow: none;\n",
              "  }\n",
              "\n",
              "  .colab-df-spinner {\n",
              "    border: 2px solid var(--fill-color);\n",
              "    border-color: transparent;\n",
              "    border-bottom-color: var(--fill-color);\n",
              "    animation:\n",
              "      spin 1s steps(1) infinite;\n",
              "  }\n",
              "\n",
              "  @keyframes spin {\n",
              "    0% {\n",
              "      border-color: transparent;\n",
              "      border-bottom-color: var(--fill-color);\n",
              "      border-left-color: var(--fill-color);\n",
              "    }\n",
              "    20% {\n",
              "      border-color: transparent;\n",
              "      border-left-color: var(--fill-color);\n",
              "      border-top-color: var(--fill-color);\n",
              "    }\n",
              "    30% {\n",
              "      border-color: transparent;\n",
              "      border-left-color: var(--fill-color);\n",
              "      border-top-color: var(--fill-color);\n",
              "      border-right-color: var(--fill-color);\n",
              "    }\n",
              "    40% {\n",
              "      border-color: transparent;\n",
              "      border-right-color: var(--fill-color);\n",
              "      border-top-color: var(--fill-color);\n",
              "    }\n",
              "    60% {\n",
              "      border-color: transparent;\n",
              "      border-right-color: var(--fill-color);\n",
              "    }\n",
              "    80% {\n",
              "      border-color: transparent;\n",
              "      border-right-color: var(--fill-color);\n",
              "      border-bottom-color: var(--fill-color);\n",
              "    }\n",
              "    90% {\n",
              "      border-color: transparent;\n",
              "      border-bottom-color: var(--fill-color);\n",
              "    }\n",
              "  }\n",
              "</style>\n",
              "\n",
              "  <script>\n",
              "    async function quickchart(key) {\n",
              "      const quickchartButtonEl =\n",
              "        document.querySelector('#' + key + ' button');\n",
              "      quickchartButtonEl.disabled = true;  // To prevent multiple clicks.\n",
              "      quickchartButtonEl.classList.add('colab-df-spinner');\n",
              "      try {\n",
              "        const charts = await google.colab.kernel.invokeFunction(\n",
              "            'suggestCharts', [key], {});\n",
              "      } catch (error) {\n",
              "        console.error('Error during call to suggestCharts:', error);\n",
              "      }\n",
              "      quickchartButtonEl.classList.remove('colab-df-spinner');\n",
              "      quickchartButtonEl.classList.add('colab-df-quickchart-complete');\n",
              "    }\n",
              "    (() => {\n",
              "      let quickchartButtonEl =\n",
              "        document.querySelector('#df-963a0aec-62de-47aa-beac-882a338f936d button');\n",
              "      quickchartButtonEl.style.display =\n",
              "        google.colab.kernel.accessAllowed ? 'block' : 'none';\n",
              "    })();\n",
              "  </script>\n",
              "</div>\n",
              "    </div>\n",
              "  </div>\n"
            ]
          },
          "metadata": {},
          "execution_count": 3
        }
      ]
    },
    {
      "metadata": {
        "dc": {
          "key": "17"
        },
        "deletable": false,
        "editable": false,
        "run_control": {
          "frozen": true
        },
        "tags": [
          "context"
        ],
        "id": "IZ0L-NUWQuxH"
      },
      "cell_type": "markdown",
      "source": [
        "## 3. Splitting the dataset into train and test sets\n",
        "<p>Now, I will split our data into train set and test set to prepare the data for two different phases of machine learning modeling: training and testing. Ideally, no information from the test data should be used to preprocess the training data or should be used to direct the training process of a machine learning model. Hence, I first split the data and then preprocess it.</p>\n",
        "<p>Also, features like <code>DriversLicense</code> and <code>ZipCode</code> are not as important as the other features in the dataset for predicting credit card approvals. We should drop them to design our machine learning model with the best set of features (aka feature selection)"
      ]
    },
    {
      "metadata": {
        "dc": {
          "key": "17"
        },
        "id": "kf-36Eg1QuxI"
      },
      "cell_type": "markdown",
      "source": [
        "### **Split `cc_apps` into train and test sets**\n",
        "\n",
        "* Importing **`train_test_split`** from the **`sklearn.model_selection`** module.\n",
        "* Dropping features 11 and 13 using the **`.drop()`** method.\n",
        "* Using the **`train_test_split()`** function, split the data into train and test sets with a split ratio of 33% (**`test_size`** argument) and set the **`random_state`** argument to `42`. Assign the train and test DataFrames to the following variables respectively: `cc_apps_train`, `cc_apps_test`.\n",
        "\n",
        "Note: I also Kept track of the total number of features before and after dropping the features. This often helps with debugging.\n",
        "\n",
        "I Set **`random_state`** ensures the dataset is split with same sets of instances every time the code is run.\n",
        "\n"
      ]
    },
    {
      "metadata": {
        "dc": {
          "key": "17"
        },
        "tags": [
          "sample_code"
        ],
        "collapsed": true,
        "trusted": true,
        "id": "Asvj6k6DQuxI"
      },
      "cell_type": "code",
      "source": [
        "# Import train_test_split\n",
        "from sklearn.model_selection import train_test_split\n",
        "\n",
        "# Drop the features 11 and 13\n",
        "cc_apps = cc_apps.drop(columns=[11, 13])\n",
        "\n",
        "# Split into train and test sets\n",
        "cc_apps_train, cc_apps_test = train_test_split(cc_apps, test_size=0.33, random_state=42)"
      ],
      "execution_count": null,
      "outputs": []
    },
    {
      "metadata": {
        "dc": {
          "key": "24"
        },
        "deletable": false,
        "editable": false,
        "run_control": {
          "frozen": true
        },
        "tags": [
          "context"
        ],
        "id": "0GC7gYYDQuxJ"
      },
      "cell_type": "markdown",
      "source": [
        "## 4. Handling the missing values (part i)\n",
        "<p>Splitting the  data, enables me handle some of the issues we identified when inspecting the DataFrame, including:</p>\n",
        "<ul>\n",
        "<li>The dataset containing both numeric and non-numeric data (specifically data that are of <code>float64</code>, <code>int64</code> and <code>object</code> types). Specifically, the features 2, 7, 10 and 14 contain numeric values (of types float64, float64, int64 and int64 respectively) and all the other features contain non-numeric values.</li>\n",
        "<li>The dataset also contains values from several ranges. Some features have a value range of 0 - 28, some have a range of 2 - 67, and some have a range of 1017 - 100000. Apart from these, we can get useful statistical information (like <code>mean</code>, <code>max</code>, and <code>min</code>) about the features that have numerical values. </li>\n",
        "<li>Finally, the dataset has missing values, which we'll take care of in this task. The missing values in the dataset are labeled with '?', which can be seen in the last cell's output of the second task.</li>\n",
        "</ul>\n",
        "<p>Now, I'd temporarily replace these missing value question marks with NaN.</p>"
      ]
    },
    {
      "metadata": {
        "dc": {
          "key": "24"
        },
        "id": "XQAJOdwFQuxJ"
      },
      "cell_type": "markdown",
      "source": [
        "### **Replace the question marks with NaN**\n",
        "\n",
        "* Import the **`numpy`** library under the alias **`np`**.\n",
        "\n",
        "* Replace the `'?'`s with NaNs using the **`.replace()`** method in both the train and test sets.\n",
        "\n",
        "\n"
      ]
    },
    {
      "metadata": {
        "dc": {
          "key": "24"
        },
        "tags": [
          "sample_code"
        ],
        "collapsed": true,
        "trusted": true,
        "id": "9rEl0A-IQuxJ"
      },
      "cell_type": "code",
      "source": [
        "# Import numpy\n",
        "import numpy as np\n",
        "\n",
        "# Replace the '?'s with NaN in the train and test sets\n",
        "cc_apps_train = cc_apps_train.replace('?',np.nan)\n",
        "cc_apps_test = cc_apps_test.replace('?', np.nan)"
      ],
      "execution_count": null,
      "outputs": []
    },
    {
      "metadata": {
        "dc": {
          "key": "31"
        },
        "deletable": false,
        "editable": false,
        "run_control": {
          "frozen": true
        },
        "tags": [
          "context"
        ],
        "id": "4ba3ka13QuxK"
      },
      "cell_type": "markdown",
      "source": [
        "## 5. Handling the missing values (part ii)\n",
        "<p>I've replaced all the question marks with NaNs. This is going to help us in the next missing value treatment that we are going to perform.</p>\n",
        "<p>An important question that gets raised here is <em>why are we giving so much importance to missing values</em>? Can't they be just ignored? Ignoring missing values can affect the performance of a machine learning model heavily. While ignoring the missing values our machine learning model may miss out on information about the dataset that may be useful for its training. Then, there are many models which cannot handle missing values implicitly such as Linear Discriminant Analysis (LDA). </p>\n",
        "<p>So, to avoid this problem, I imputed the missing values with a strategy called mean imputation.</p>"
      ]
    },
    {
      "metadata": {
        "dc": {
          "key": "31"
        },
        "id": "-xUIrmIXQuxK"
      },
      "cell_type": "markdown",
      "source": [
        "### **Imputing the NaN values with the mean imputation approach.**\n",
        "\n",
        "* For the numeric columns, I imputed the missing values (NaNs) with pandas method **`.fillna()`**. And I ensured the test set is imputed with the mean values computed from the <ins>training</ins> set.\n",
        "\n",
        "* I Verified if the **`.fillna()`** method performed as expected by printing the total number of NaNs in each column.\n"
      ]
    },
    {
      "metadata": {
        "dc": {
          "key": "31"
        },
        "tags": [
          "sample_code"
        ],
        "trusted": true,
        "id": "6Omf2ltFQuxK",
        "colab": {
          "base_uri": "https://localhost:8080/"
        },
        "outputId": "bec6d9de-87b2-4d4a-82f2-2753ba951f92"
      },
      "cell_type": "code",
      "source": [
        "# Impute the missing values with mean imputation\n",
        "cc_apps_train.fillna(cc_apps_train.mean(), inplace=True)\n",
        "cc_apps_test.fillna(cc_apps_train.mean(), inplace=True)\n",
        "\n",
        "# Count the number of NaNs in the datasets and print the counts to verify\n",
        "print(cc_apps_train.isnull().sum())\n",
        "print(cc_apps_test.isnull().sum())"
      ],
      "execution_count": null,
      "outputs": [
        {
          "output_type": "stream",
          "name": "stdout",
          "text": [
            "0     8\n",
            "1     5\n",
            "2     0\n",
            "3     6\n",
            "4     6\n",
            "5     7\n",
            "6     7\n",
            "7     0\n",
            "8     0\n",
            "9     0\n",
            "10    0\n",
            "12    0\n",
            "14    0\n",
            "15    0\n",
            "dtype: int64\n",
            "0     4\n",
            "1     7\n",
            "2     0\n",
            "3     0\n",
            "4     0\n",
            "5     2\n",
            "6     2\n",
            "7     0\n",
            "8     0\n",
            "9     0\n",
            "10    0\n",
            "12    0\n",
            "14    0\n",
            "15    0\n",
            "dtype: int64\n"
          ]
        },
        {
          "output_type": "stream",
          "name": "stderr",
          "text": [
            "<ipython-input-6-3d2ba7b8a823>:2: FutureWarning: The default value of numeric_only in DataFrame.mean is deprecated. In a future version, it will default to False. In addition, specifying 'numeric_only=None' is deprecated. Select only valid columns or specify the value of numeric_only to silence this warning.\n",
            "  cc_apps_train.fillna(cc_apps_train.mean(), inplace=True)\n",
            "<ipython-input-6-3d2ba7b8a823>:3: FutureWarning: The default value of numeric_only in DataFrame.mean is deprecated. In a future version, it will default to False. In addition, specifying 'numeric_only=None' is deprecated. Select only valid columns or specify the value of numeric_only to silence this warning.\n",
            "  cc_apps_test.fillna(cc_apps_train.mean(), inplace=True)\n"
          ]
        }
      ]
    },
    {
      "metadata": {
        "dc": {
          "key": "38"
        },
        "deletable": false,
        "editable": false,
        "run_control": {
          "frozen": true
        },
        "tags": [
          "context"
        ],
        "id": "GuJ5Ztp6QuxL"
      },
      "cell_type": "markdown",
      "source": [
        "## 6. Handling the missing values (part iii)\n",
        "<p>We have successfully taken care of the missing values present in the numeric columns. There are still some missing values to be imputed for columns 0, 1, 3, 4, 5, 6 and 13. All of these columns contain non-numeric data and this is why the mean imputation strategy would not work here. This needs a different treatment. </p>\n",
        "<p>On this note, I imputed these missing values with the most frequent values as present in the respective columns. Which is widely accepted practice when it comes to imputing missing values for categorical data in general.</p>"
      ]
    },
    {
      "metadata": {
        "dc": {
          "key": "38"
        },
        "id": "VU74uZvnQuxL"
      },
      "cell_type": "markdown",
      "source": [
        "### **Impute the missing values in the <ins>non-numeric</ins> columns**\n",
        "\n",
        "* Iterate over each column of `cc_apps_train` using a **`for`** loop.\n",
        "\n",
        "* Check if the data-type of the column is of `object` type by using the **`.dtypes`** keyword.\n",
        "\n",
        "* Using the **`.fillna()`** method, impute the column's missing values with the most frequent value of that column with the **`.value_counts()`** method and index attribute and assign it to both `cc_apps_train` and `cc_apps_test`. Ensure that the test DataFrame's (`cc_apps_test`) columns are imputed using data from the training DataFrames (`cc_apps_train`).\n",
        "\n",
        "* Finally, verify if there are any more missing values in the DataFrames that are left to be imputed by printing the total number of NaNs in each column.\n",
        "\n",
        "The column names of a pandas DataFrame can be accessed using **`.columns`** attribute. The **`.dtypes`** attribute provides the data type. In this part, `object` is the data type that you should be concerned about. The **`.value_counts()`** method returns the frequency distribution of each value in the column, and the **`.index`** attribute can then be used to get the most frequent value.\n",
        "\n"
      ]
    },
    {
      "metadata": {
        "dc": {
          "key": "38"
        },
        "tags": [
          "sample_code"
        ],
        "trusted": true,
        "id": "PDw6DA5CQuxL",
        "colab": {
          "base_uri": "https://localhost:8080/"
        },
        "outputId": "11365ed1-479b-4e5d-850c-6ef8556e5add"
      },
      "cell_type": "code",
      "source": [
        "# Iterate over each column of cc_apps_train\n",
        "for col in cc_apps_train.columns:\n",
        "    # Check if the column is of object type\n",
        "    if cc_apps_train[col].dtypes == 'object':\n",
        "        # Impute with the most frequent value\n",
        "        cc_apps_train = cc_apps_train.fillna(cc_apps_train[col].value_counts().index[0])\n",
        "        cc_apps_test = cc_apps_test.fillna(cc_apps_train[col].value_counts().index[0])\n",
        "\n",
        "# Count the number of NaNs in the dataset and print the counts to verify\n",
        "print(cc_apps_train.isna().sum())\n",
        "print(cc_apps_test.isna().sum())\n"
      ],
      "execution_count": null,
      "outputs": [
        {
          "output_type": "stream",
          "name": "stdout",
          "text": [
            "0     0\n",
            "1     0\n",
            "2     0\n",
            "3     0\n",
            "4     0\n",
            "5     0\n",
            "6     0\n",
            "7     0\n",
            "8     0\n",
            "9     0\n",
            "10    0\n",
            "12    0\n",
            "14    0\n",
            "15    0\n",
            "dtype: int64\n",
            "0     0\n",
            "1     0\n",
            "2     0\n",
            "3     0\n",
            "4     0\n",
            "5     0\n",
            "6     0\n",
            "7     0\n",
            "8     0\n",
            "9     0\n",
            "10    0\n",
            "12    0\n",
            "14    0\n",
            "15    0\n",
            "dtype: int64\n"
          ]
        }
      ]
    },
    {
      "metadata": {
        "dc": {
          "key": "45"
        },
        "deletable": false,
        "editable": false,
        "run_control": {
          "frozen": true
        },
        "tags": [
          "context"
        ],
        "id": "7BfSADxwQuxM"
      },
      "cell_type": "markdown",
      "source": [
        "## 7. Preprocessing the data (part i)\n",
        "<p>The missing values are now successfully handled.</p>\n",
        "<p>There is still some minor but essential data preprocessing needed before we proceed towards building our machine learning model. We are going to divide these remaining preprocessing steps into two main tasks:</p>\n",
        "<ol>\n",
        "<li>Convert the non-numeric data into numeric.</li>\n",
        "<li>Scale the feature values to a uniform range.</li>\n",
        "</ol>\n",
        "<p>First, I converted all the non-numeric values into numeric ones. I did this because not only it results in a faster computation but also many machine learning models (like XGBoost) (and especially the ones developed using scikit-learn) require the data to be in a strictly numeric format. I did this by using the <code>get_dummies()</code> method from pandas.</p>"
      ]
    },
    {
      "metadata": {
        "dc": {
          "key": "45"
        },
        "id": "MKcTPNTOQuxM"
      },
      "cell_type": "markdown",
      "source": [
        "### **Converting the non-numeric values to numeric**\n",
        "\n",
        "* Use the **`.get_dummies()`** method on `cc_apps_train` and then use it on `cc_apps_test`. Store the outputs in `cc_apps_train` and `cc_apps_test` variables respectively.\n",
        "\n",
        "* Use the **`.reindex()`** method on `cc_apps_test` using the columns from `cc_apps_train`. Use `0` to fill the columns that aren't present in the reindexed `cc_apps_test`.\n",
        "\n",
        "The last reindexing step is used for discarding any new categorical feature that'd appear in the test data.\n",
        "\n"
      ]
    },
    {
      "metadata": {
        "dc": {
          "key": "45"
        },
        "tags": [
          "sample_code"
        ],
        "trusted": true,
        "id": "ypDQEc9cQuxM"
      },
      "cell_type": "code",
      "source": [
        "# Convert the categorical features in the train and test sets independently\n",
        "cc_apps_train = pd.get_dummies(cc_apps_train)\n",
        "cc_apps_test = pd.get_dummies(cc_apps_test)\n",
        "\n",
        "# Reindex the columns of the test set aligning with the train set\n",
        "cc_apps_test = cc_apps_test.reindex(columns=cc_apps_train.columns, fill_value=0)"
      ],
      "execution_count": null,
      "outputs": []
    },
    {
      "metadata": {
        "dc": {
          "key": "52"
        },
        "deletable": false,
        "editable": false,
        "run_control": {
          "frozen": true
        },
        "tags": [
          "context"
        ],
        "id": "rmgLCyQlQuxM"
      },
      "cell_type": "markdown",
      "source": [
        "## 8. Preprocessing the data (part ii)\n",
        "<p>I am left with one final preprocessing step of scaling before we can fit a machine learning model to the data. </p>\n",
        "<p>To understand what these scaled values mean in the real world. After some level of exploration, I decided to use <code>CreditScore</code> as an example. The credit score of a person is their creditworthiness based on their credit history. The higher this number, the more financially trustworthy a person is considered to be. So, a <code>CreditScore</code> of 1 is the highest since we're rescaling all the values to the range of 0-1.</p>"
      ]
    },
    {
      "metadata": {
        "dc": {
          "key": "52"
        },
        "id": "T0nVhjAbQuxN"
      },
      "cell_type": "markdown",
      "source": [
        "### **Rescaling the features of the data**\n",
        "\n",
        "* Import the **`MinMaxScaler`** class from the **`sklearn.preprocessing`** module.\n",
        "\n",
        "* Segregate the features and labels into `X_train`, `y_train`, `X_test`, and `y_test` variables respectively. You can use **`.iloc`** for this purpose.\n",
        "\n",
        "* Instantiate **`MinMaxScaler`** class in a variable called `scaler` with the **`feature_range`** parameter set to `(0,1)`.\n",
        "\n",
        "* Fit the `scaler` to `X_train` and transform the data, assigning the result to `rescaledX_train`.\n",
        "* Use the `scaler` to transform `X_test`, assigning the result to `rescaledX_test`.\n",
        "\n",
        "When a dataset has varying ranges as in this credit card approvals dataset, one a small change in a particular feature may not have a significant effect on the other feature, which can cause a lot of problems when predictive modeling.\n",
        "\n"
      ]
    },
    {
      "metadata": {
        "dc": {
          "key": "52"
        },
        "tags": [
          "sample_code"
        ],
        "trusted": true,
        "id": "f_I-_wiUQuxN"
      },
      "cell_type": "code",
      "source": [
        "# Import MinMaxScaler\n",
        "from sklearn.preprocessing import MinMaxScaler\n",
        "\n",
        "# Segregate features and labels into separate variables\n",
        "X_train, y_train = cc_apps_train.iloc[:, :-1].values, cc_apps_train.iloc[:, -1].values\n",
        "X_test, y_test = cc_apps_test.iloc[:, :-1].values, cc_apps_test.iloc[:, -1].values\n",
        "\n",
        "# Instantiate MinMaxScaler and use it to rescale X_train and X_test\n",
        "scaler = MinMaxScaler(feature_range=(0, 1))\n",
        "rescaledX_train = scaler.fit_transform(X_train)\n",
        "rescaledX_test = scaler.transform(X_test)"
      ],
      "execution_count": null,
      "outputs": []
    },
    {
      "metadata": {
        "dc": {
          "key": "59"
        },
        "deletable": false,
        "editable": false,
        "run_control": {
          "frozen": true
        },
        "tags": [
          "context"
        ],
        "id": "EkGu1Xh_QuxN"
      },
      "cell_type": "markdown",
      "source": [
        "## 9. Fitting a logistic regression model to the train set\n",
        "<p>Essentially, predicting if a credit card application will be approved or not is a <a href=\"https://en.wikipedia.org/wiki/Statistical_classification\">classification</a> task. According to UCI, our dataset contains more instances that correspond to \"Denied\" status than instances corresponding to \"Approved\" status. Specifically, out of 690 instances, there are 383 (55.5%) applications that got denied and 307 (44.5%) applications that got approved. </p>\n",
        "<p>This gives us a benchmark. A good machine learning model should be able to accurately predict the status of the applications with respect to these statistics.</p>\n",
        "<p>The question to ask is: <em>are the features that affect the credit card approval decision process correlated with each other?</em>"
      ]
    },
    {
      "metadata": {
        "dc": {
          "key": "59"
        },
        "id": "2lbwvr8BQuxN"
      },
      "cell_type": "markdown",
      "source": [
        "### **Fit a `LogisticRegression` classifier with `rescaledX_train` and `y_train`**\n",
        "\n",
        "* Import **`LogisticRegression`** from the **`sklearn.linear_model`** module.\n",
        "* Instantiate **`LogisticRegression`** into a variable named `logreg` with default values.\n",
        "* Fit `rescaledX_train` and `y_train` to `logreg` using the **`.fit()`** method.\n",
        "\n"
      ]
    },
    {
      "metadata": {
        "dc": {
          "key": "59"
        },
        "tags": [
          "sample_code"
        ],
        "trusted": true,
        "id": "NB2qWy7cQuxO",
        "colab": {
          "base_uri": "https://localhost:8080/",
          "height": 75
        },
        "outputId": "64c9d281-cb59-455d-df97-70eae1f51a8c"
      },
      "cell_type": "code",
      "source": [
        "# Import LogisticRegression\n",
        "from sklearn.linear_model import LogisticRegression\n",
        "\n",
        "# Instantiate a LogisticRegression classifier with default parameter values\n",
        "logreg = LogisticRegression()\n",
        "\n",
        "# Fit logreg to the train set\n",
        "logreg.fit(rescaledX_train, y_train)"
      ],
      "execution_count": null,
      "outputs": [
        {
          "output_type": "execute_result",
          "data": {
            "text/plain": [
              "LogisticRegression()"
            ],
            "text/html": [
              "<style>#sk-container-id-1 {color: black;background-color: white;}#sk-container-id-1 pre{padding: 0;}#sk-container-id-1 div.sk-toggleable {background-color: white;}#sk-container-id-1 label.sk-toggleable__label {cursor: pointer;display: block;width: 100%;margin-bottom: 0;padding: 0.3em;box-sizing: border-box;text-align: center;}#sk-container-id-1 label.sk-toggleable__label-arrow:before {content: \"▸\";float: left;margin-right: 0.25em;color: #696969;}#sk-container-id-1 label.sk-toggleable__label-arrow:hover:before {color: black;}#sk-container-id-1 div.sk-estimator:hover label.sk-toggleable__label-arrow:before {color: black;}#sk-container-id-1 div.sk-toggleable__content {max-height: 0;max-width: 0;overflow: hidden;text-align: left;background-color: #f0f8ff;}#sk-container-id-1 div.sk-toggleable__content pre {margin: 0.2em;color: black;border-radius: 0.25em;background-color: #f0f8ff;}#sk-container-id-1 input.sk-toggleable__control:checked~div.sk-toggleable__content {max-height: 200px;max-width: 100%;overflow: auto;}#sk-container-id-1 input.sk-toggleable__control:checked~label.sk-toggleable__label-arrow:before {content: \"▾\";}#sk-container-id-1 div.sk-estimator input.sk-toggleable__control:checked~label.sk-toggleable__label {background-color: #d4ebff;}#sk-container-id-1 div.sk-label input.sk-toggleable__control:checked~label.sk-toggleable__label {background-color: #d4ebff;}#sk-container-id-1 input.sk-hidden--visually {border: 0;clip: rect(1px 1px 1px 1px);clip: rect(1px, 1px, 1px, 1px);height: 1px;margin: -1px;overflow: hidden;padding: 0;position: absolute;width: 1px;}#sk-container-id-1 div.sk-estimator {font-family: monospace;background-color: #f0f8ff;border: 1px dotted black;border-radius: 0.25em;box-sizing: border-box;margin-bottom: 0.5em;}#sk-container-id-1 div.sk-estimator:hover {background-color: #d4ebff;}#sk-container-id-1 div.sk-parallel-item::after {content: \"\";width: 100%;border-bottom: 1px solid gray;flex-grow: 1;}#sk-container-id-1 div.sk-label:hover label.sk-toggleable__label {background-color: #d4ebff;}#sk-container-id-1 div.sk-serial::before {content: \"\";position: absolute;border-left: 1px solid gray;box-sizing: border-box;top: 0;bottom: 0;left: 50%;z-index: 0;}#sk-container-id-1 div.sk-serial {display: flex;flex-direction: column;align-items: center;background-color: white;padding-right: 0.2em;padding-left: 0.2em;position: relative;}#sk-container-id-1 div.sk-item {position: relative;z-index: 1;}#sk-container-id-1 div.sk-parallel {display: flex;align-items: stretch;justify-content: center;background-color: white;position: relative;}#sk-container-id-1 div.sk-item::before, #sk-container-id-1 div.sk-parallel-item::before {content: \"\";position: absolute;border-left: 1px solid gray;box-sizing: border-box;top: 0;bottom: 0;left: 50%;z-index: -1;}#sk-container-id-1 div.sk-parallel-item {display: flex;flex-direction: column;z-index: 1;position: relative;background-color: white;}#sk-container-id-1 div.sk-parallel-item:first-child::after {align-self: flex-end;width: 50%;}#sk-container-id-1 div.sk-parallel-item:last-child::after {align-self: flex-start;width: 50%;}#sk-container-id-1 div.sk-parallel-item:only-child::after {width: 0;}#sk-container-id-1 div.sk-dashed-wrapped {border: 1px dashed gray;margin: 0 0.4em 0.5em 0.4em;box-sizing: border-box;padding-bottom: 0.4em;background-color: white;}#sk-container-id-1 div.sk-label label {font-family: monospace;font-weight: bold;display: inline-block;line-height: 1.2em;}#sk-container-id-1 div.sk-label-container {text-align: center;}#sk-container-id-1 div.sk-container {/* jupyter's `normalize.less` sets `[hidden] { display: none; }` but bootstrap.min.css set `[hidden] { display: none !important; }` so we also need the `!important` here to be able to override the default hidden behavior on the sphinx rendered scikit-learn.org. See: https://github.com/scikit-learn/scikit-learn/issues/21755 */display: inline-block !important;position: relative;}#sk-container-id-1 div.sk-text-repr-fallback {display: none;}</style><div id=\"sk-container-id-1\" class=\"sk-top-container\"><div class=\"sk-text-repr-fallback\"><pre>LogisticRegression()</pre><b>In a Jupyter environment, please rerun this cell to show the HTML representation or trust the notebook. <br />On GitHub, the HTML representation is unable to render, please try loading this page with nbviewer.org.</b></div><div class=\"sk-container\" hidden><div class=\"sk-item\"><div class=\"sk-estimator sk-toggleable\"><input class=\"sk-toggleable__control sk-hidden--visually\" id=\"sk-estimator-id-1\" type=\"checkbox\" checked><label for=\"sk-estimator-id-1\" class=\"sk-toggleable__label sk-toggleable__label-arrow\">LogisticRegression</label><div class=\"sk-toggleable__content\"><pre>LogisticRegression()</pre></div></div></div></div></div>"
            ]
          },
          "metadata": {},
          "execution_count": 10
        }
      ]
    },
    {
      "metadata": {
        "dc": {
          "key": "66"
        },
        "deletable": false,
        "editable": false,
        "run_control": {
          "frozen": true
        },
        "tags": [
          "context"
        ],
        "id": "rGIGqCw9QuxO"
      },
      "cell_type": "markdown",
      "source": [
        "## 10. Making predictions and evaluating performance\n",
        "<p>The question is how well does the model perform? </p>\n",
        "<p>I evaluated the model on the test set with respect to <a href=\"https://developers.google.com/machine-learning/crash-course/classification/accuracy\">classification accuracy</a>. I also had to take a look the model's <a href=\"http://www.dataschool.io/simple-guide-to-confusion-matrix-terminology/\">confusion matrix</a>. In the case of predicting credit card applications, it is important to see if our machine learning model is equally capable of predicting approved and denied status, in line with the frequency of these labels in our original dataset. If the model is not performing well in this aspect, then it might end up approving the application that should have been approved. The confusion matrix helps us to view our model's performance from these aspects.  </p>"
      ]
    },
    {
      "metadata": {
        "dc": {
          "key": "66"
        },
        "id": "ZqkHX0apQuxO"
      },
      "cell_type": "markdown",
      "source": [
        "### **Make predictions and evaluate performance**\n",
        "\n",
        "* Import **`confusion_matrix()`** from **`sklearn.metrics`** module.\n",
        "\n",
        "* Use **`.predict()`** on `rescaledX_test` (which contains instances of the dataset that `logreg` has not seen until now) and store the predictions in a variable named `y_pred`.\n",
        "\n",
        "* Print the accuracy score of `logreg` using the **`.score()`**. Don't forget to pass `rescaledX_test` and `y_test` to the **`.score()`** method.\n",
        "\n",
        "* Call **`confusion_matrix()`** with `y_test` and `y_pred` to print the confusion matrix.\n",
        "\n"
      ]
    },
    {
      "metadata": {
        "dc": {
          "key": "66"
        },
        "tags": [
          "sample_code"
        ],
        "trusted": true,
        "id": "ezLB6qrFQuxP",
        "colab": {
          "base_uri": "https://localhost:8080/"
        },
        "outputId": "afed391a-3f1d-4fed-d1a4-ab6e0fe1ab1e"
      },
      "cell_type": "code",
      "source": [
        "# Import confusion_matrix\n",
        "from sklearn.metrics import confusion_matrix\n",
        "\n",
        "# Use logreg to predict instances from the test set and store it\n",
        "y_pred = logreg.predict(rescaledX_test)\n",
        "\n",
        "# Get the accuracy score of logreg model and print it\n",
        "print(\"Accuracy of logistic regression classifier: \", logreg.score(rescaledX_test, y_test))\n",
        "\n",
        "# Print the confusion matrix of the logreg model\n",
        "confusion_matrix(y_test, y_pred)"
      ],
      "execution_count": null,
      "outputs": [
        {
          "output_type": "stream",
          "name": "stdout",
          "text": [
            "Accuracy of logistic regression classifier:  1.0\n"
          ]
        },
        {
          "output_type": "execute_result",
          "data": {
            "text/plain": [
              "array([[103,   0],\n",
              "       [  0, 125]])"
            ]
          },
          "metadata": {},
          "execution_count": 11
        }
      ]
    },
    {
      "metadata": {
        "dc": {
          "key": "73"
        },
        "deletable": false,
        "editable": false,
        "run_control": {
          "frozen": true
        },
        "tags": [
          "context"
        ],
        "id": "OzUN8NCrQuxP"
      },
      "cell_type": "markdown",
      "source": [
        "## 11. Grid searching and making the model perform better\n",
        "<p>The model was pretty good! In fact it was able to yield an accuracy score of 100%.</p>\n",
        "<p>For the confusion matrix, the first element of the of the first row of the confusion matrix denotes the true negatives meaning the number of negative instances (denied applications) predicted by the model correctly. And the last element of the second row of the confusion matrix denotes the true positives meaning the number of positive instances (approved applications) predicted by the model correctly.</p>\n",
        "<p>if I hadn't got a perfect score what's to be done?. I can perform a <a href=\"https://machinelearningmastery.com/how-to-tune-algorithm-parameters-with-scikit-learn/\">grid search</a> of the model parameters to improve the model's ability to predict credit card approvals.</p>\n",
        "<p><a href=\"http://scikit-learn.org/stable/modules/generated/sklearn.linear_model.LogisticRegression.html\">scikit-learn's implementation of logistic regression</a> consists of different hyperparameters but I grid search over the following two:</p>\n",
        "<ul>\n",
        "<li>tol</li>\n",
        "<li>max_iter</li>\n",
        "</ul>"
      ]
    },
    {
      "metadata": {
        "dc": {
          "key": "73"
        },
        "id": "YlItk81HQuxP"
      },
      "cell_type": "markdown",
      "source": [
        "### **Define the grid of parameter values for which grid searching is to be performed**\n",
        "\n",
        "* Import **`GridSearchCV`** from the **`sklearn.model_selection`** module.\n",
        "\n",
        "* Define the grid of values for **`tol`** and **`max_iter`** parameters into `tol` and `max_iter` lists respectively.\n",
        "\n",
        "* For `tol`, define the list with values `0.01, 0.001, 0.0001`. For `max_iter`, define the list with values `100, 150, 200`.\n",
        "\n",
        "* Using the **`.dict()`** method, create a dictionary where `tol` and `max_iter` are keys, and the lists of their values are the corresponding values. Name this dictionary as `param_grid`.\n",
        "\n",
        "Grid search can be very exhaustive if the model is very complex and the dataset is extremely large. Luckily, that is not the case for this project."
      ]
    },
    {
      "metadata": {
        "dc": {
          "key": "73"
        },
        "tags": [
          "sample_code"
        ],
        "trusted": true,
        "id": "IvVZ7L89QuxQ"
      },
      "cell_type": "code",
      "source": [
        "# Import GridSearchCV\n",
        "from sklearn.model_selection import GridSearchCV\n",
        "\n",
        "# Define the grid of values for tol and max_iter\n",
        "tol = [0.01, 0.001, 0.0001]\n",
        "max_iter = [100, 150, 200]\n",
        "\n",
        "# Create a dictionary where tol and max_iter are keys and the lists of their values are corresponding values\n",
        "param_grid = {'tol': tol, 'max_iter': max_iter}"
      ],
      "execution_count": null,
      "outputs": []
    },
    {
      "metadata": {
        "dc": {
          "key": "80"
        },
        "deletable": false,
        "editable": false,
        "run_control": {
          "frozen": true
        },
        "tags": [
          "context"
        ],
        "id": "G9GsYTG8QuxQ"
      },
      "cell_type": "markdown",
      "source": [
        "## 12. Finding the best performing model\n",
        "<p>We have defined the grid of hyperparameter values and converted them into a single dictionary format which <code>GridSearchCV()</code> expects as one of its parameters. Now, we will begin the grid search to see which values perform best.</p>\n",
        "<p>We will instantiate <code>GridSearchCV()</code> with our earlier <code>logreg</code> model with all the data we have. We will also instruct <code>GridSearchCV()</code> to perform a <a href=\"https://www.dataschool.io/machine-learning-with-scikit-learn/\">cross-validation</a> of five folds.</p>\n",
        "<p>We'll end the notebook by storing the best-achieved score and the respective best parameters.</p>\n",
        "<p>While building this credit card predictor, we tackled some of the most widely-known preprocessing steps such as <strong>scaling</strong>, <strong>label encoding</strong>, and <strong>missing value imputation</strong>. We finished with some <strong>machine learning</strong> to predict if a person's application for a credit card would get approved or not given some information about that person.</p>"
      ]
    },
    {
      "metadata": {
        "dc": {
          "key": "80"
        },
        "id": "SW2Nv630QuxQ"
      },
      "cell_type": "markdown",
      "source": [
        "### **Find the best score and best parameters for the model using grid search**\n",
        "\n",
        "* Instantiate **`GridSearchCV()`** with the attributes set as\n",
        "    * **`estimator=logreg`\n",
        "    * **`param_grid=param_grid`**\n",
        "    * **`cv=5`**\n",
        "    and store this instance in `grid_model` variable.\n",
        "    \n",
        "* Fit `rescaledX_train` and `y_train` to `grid_model` and store the results in `grid_model_result`.\n",
        "\n",
        "* Call the **`.best_score_`** and **`.best_params_`** attributes on the `grid_model_result` variable, then print both.\n",
        "\n",
        "* Extract the best model from `grid_model_result` and evaluate it on the test set (`rescaledX_test, y_test`).\n"
      ]
    },
    {
      "metadata": {
        "dc": {
          "key": "80"
        },
        "tags": [
          "sample_code"
        ],
        "trusted": true,
        "id": "-flLdpeZQuxQ",
        "colab": {
          "base_uri": "https://localhost:8080/"
        },
        "outputId": "ba327ee5-c38c-4451-ce39-e9b109e581a8"
      },
      "cell_type": "code",
      "source": [
        "# Instantiate GridSearchCV with the required parameters\n",
        "grid_model = GridSearchCV(estimator=logreg, param_grid=param_grid, cv=5)\n",
        "\n",
        "# Fit grid_model to the data\n",
        "grid_model_result = grid_model.fit(rescaledX_train, y_train)\n",
        "\n",
        "# Summarize results\n",
        "best_score, best_params = grid_model_result.best_score_, grid_model_result.best_params_\n",
        "print(\"Best: %f using %s\" % (best_score, best_params))\n",
        "\n",
        "# Extract the best model and evaluate it on the test set\n",
        "best_model = grid_model_result.best_estimator_\n",
        "print(\"Accuracy of logistic regression classifier: \", best_model.score(rescaledX_test, y_test))"
      ],
      "execution_count": null,
      "outputs": [
        {
          "output_type": "stream",
          "name": "stdout",
          "text": [
            "Best: 1.000000 using {'max_iter': 100, 'tol': 0.01}\n",
            "Accuracy of logistic regression classifier:  1.0\n"
          ]
        }
      ]
    }
  ],
  "metadata": {
    "kernelspec": {
      "name": "python3",
      "display_name": "Python 3",
      "language": "python"
    },
    "language_info": {
      "name": "python",
      "version": "3.6.7",
      "mimetype": "text/x-python",
      "codemirror_mode": {
        "name": "ipython",
        "version": 3
      },
      "pygments_lexer": "ipython3",
      "nbconvert_exporter": "python",
      "file_extension": ".py"
    },
    "colab": {
      "provenance": [],
      "include_colab_link": true
    }
  },
  "nbformat": 4,
  "nbformat_minor": 0
}